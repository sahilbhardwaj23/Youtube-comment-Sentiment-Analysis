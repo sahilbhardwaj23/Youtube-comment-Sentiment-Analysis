{
 "cells": [
  {
   "cell_type": "code",
   "execution_count": 1,
   "metadata": {},
   "outputs": [
    {
     "data": {
      "text/html": [
       "<pre style=\"white-space:pre;overflow-x:auto;line-height:normal;font-family:Menlo,'DejaVu Sans Mono',consolas,'Courier New',monospace\">Accessing as sahilbhardwaj23\n",
       "</pre>\n"
      ],
      "text/plain": [
       "Accessing as sahilbhardwaj23\n"
      ]
     },
     "metadata": {},
     "output_type": "display_data"
    },
    {
     "data": {
      "text/html": [
       "<pre style=\"white-space:pre;overflow-x:auto;line-height:normal;font-family:Menlo,'DejaVu Sans Mono',consolas,'Courier New',monospace\">Initialized MLflow to track repo <span style=\"color: #008000; text-decoration-color: #008000\">\"sahilbhardwaj23/Youtube-comment-Sentiment-Analysis\"</span>\n",
       "</pre>\n"
      ],
      "text/plain": [
       "Initialized MLflow to track repo \u001b[32m\"sahilbhardwaj23/Youtube-comment-Sentiment-Analysis\"\u001b[0m\n"
      ]
     },
     "metadata": {},
     "output_type": "display_data"
    },
    {
     "data": {
      "text/html": [
       "<pre style=\"white-space:pre;overflow-x:auto;line-height:normal;font-family:Menlo,'DejaVu Sans Mono',consolas,'Courier New',monospace\">Repository sahilbhardwaj23/Youtube-comment-Sentiment-Analysis initialized!\n",
       "</pre>\n"
      ],
      "text/plain": [
       "Repository sahilbhardwaj23/Youtube-comment-Sentiment-Analysis initialized!\n"
      ]
     },
     "metadata": {},
     "output_type": "display_data"
    }
   ],
   "source": [
    "import dagshub\n",
    "dagshub.init(repo_owner='sahilbhardwaj23', repo_name='Youtube-comment-Sentiment-Analysis', mlflow=True)"
   ]
  },
  {
   "cell_type": "code",
   "execution_count": 2,
   "metadata": {},
   "outputs": [],
   "source": [
    "import mlflow\n",
    "# Step 2: Set up the MLflow tracking server\n",
    "mlflow.set_tracking_uri(\"https://dagshub.com/sahilbhardwaj23/Youtube-comment-Sentiment-Analysis.mlflow\")"
   ]
  },
  {
   "cell_type": "code",
   "execution_count": 3,
   "metadata": {},
   "outputs": [],
   "source": [
    "from mlflow.tracking import MlflowClient\n",
    "import mlflow"
   ]
  },
  {
   "cell_type": "code",
   "execution_count": 4,
   "metadata": {},
   "outputs": [],
   "source": [
    "def set_or_create_experiment(experiment_name):\n",
    "    client = MlflowClient()\n",
    "    experiment = client.get_experiment_by_name(experiment_name)\n",
    "\n",
    "    # Check if the experiment exists and is active\n",
    "    if experiment:\n",
    "        if experiment.lifecycle_stage == \"active\":\n",
    "            print(f\"Using existing experiment '{experiment_name}' (ID: {experiment.experiment_id})\")\n",
    "            mlflow.set_experiment(experiment_name)\n",
    "        else:\n",
    "            # Restore if it's deleted\n",
    "            print(f\"Restoring deleted experiment '{experiment_name}' (ID: {experiment.experiment_id})\")\n",
    "            client.restore_experiment(experiment.experiment_id)\n",
    "            mlflow.set_experiment(experiment_name)\n",
    "    else:\n",
    "        # Create a new experiment if it doesn't exist\n",
    "        print(f\"Creating new experiment '{experiment_name}'\")\n",
    "        mlflow.set_experiment(experiment_name)\n",
    "\n"
   ]
  },
  {
   "cell_type": "code",
   "execution_count": 5,
   "metadata": {
    "colab": {
     "base_uri": "https://localhost:8080/"
    },
    "id": "xCJNW6DZoka5",
    "outputId": "b06bf2d8-8808-481b-f93f-71fdb516f2e0"
   },
   "outputs": [
    {
     "data": {
      "text/plain": [
       "<Experiment: artifact_location='mlflow-artifacts:/eea9feb5bf974d4caa1db1d0e2e46f19', creation_time=1730567889441, experiment_id='7', last_update_time=1730567889441, lifecycle_stage='active', name='ML Algos with HP Tuning', tags={}>"
      ]
     },
     "execution_count": 5,
     "metadata": {},
     "output_type": "execute_result"
    }
   ],
   "source": [
    "# Set or create an experiment\n",
    "mlflow.set_experiment(\"ML Algos with HP Tuning\")"
   ]
  },
  {
   "cell_type": "code",
   "execution_count": 6,
   "metadata": {
    "id": "Y-0BV-plomXS"
   },
   "outputs": [
    {
     "name": "stderr",
     "output_type": "stream",
     "text": [
      "e:\\Projects\\Youtube Comment Analysis\\Youtube commnent Plugin\\myenv\\Lib\\site-packages\\tqdm\\auto.py:21: TqdmWarning: IProgress not found. Please update jupyter and ipywidgets. See https://ipywidgets.readthedocs.io/en/stable/user_install.html\n",
      "  from .autonotebook import tqdm as notebook_tqdm\n"
     ]
    }
   ],
   "source": [
    "import pandas as pd\n",
    "from sklearn.feature_extraction.text import TfidfVectorizer\n",
    "from sklearn.model_selection import train_test_split\n",
    "from sklearn.metrics import accuracy_score, classification_report\n",
    "from sklearn.svm import SVC\n",
    "from imblearn.over_sampling import SMOTE\n",
    "import mlflow\n",
    "import mlflow.sklearn\n",
    "import optuna"
   ]
  },
  {
   "cell_type": "code",
   "execution_count": 7,
   "metadata": {
    "colab": {
     "base_uri": "https://localhost:8080/"
    },
    "id": "GoaMIwa3po8e",
    "outputId": "a799715f-357e-4569-a418-a4e66b72cf03"
   },
   "outputs": [
    {
     "data": {
      "text/plain": [
       "(36662, 2)"
      ]
     },
     "execution_count": 7,
     "metadata": {},
     "output_type": "execute_result"
    }
   ],
   "source": [
    "df = pd.read_csv('reddit_preprocessing.csv').dropna()\n",
    "df.shape"
   ]
  },
  {
   "cell_type": "code",
   "execution_count": 8,
   "metadata": {
    "colab": {
     "background_save": true,
     "base_uri": "https://localhost:8080/"
    },
    "id": "3po_cHLtpviA",
    "outputId": "23fbbcc4-7174-4ca8-ed50-bc3d2d749324"
   },
   "outputs": [
    {
     "name": "stderr",
     "output_type": "stream",
     "text": [
      "[I 2024-11-03 08:18:55,395] A new study created in memory with name: no-name-a6b3e36d-6cc1-4d11-a54e-5d7f077bfb43\n",
      "[I 2024-11-03 08:25:52,758] Trial 0 finished with value: 0.4769604734728387 and parameters: {'C': 0.02175382023873877, 'kernel': 'rbf'}. Best is trial 0 with value: 0.4769604734728387.\n",
      "[I 2024-11-03 08:33:00,904] Trial 1 finished with value: 0.3839568801521877 and parameters: {'C': 0.010114896195834713, 'kernel': 'poly'}. Best is trial 0 with value: 0.4769604734728387.\n",
      "[I 2024-11-03 08:54:23,527] Trial 2 finished with value: 0.7109490593954766 and parameters: {'C': 0.8803522358234165, 'kernel': 'poly'}. Best is trial 2 with value: 0.7109490593954766.\n",
      "[I 2024-11-03 09:01:55,535] Trial 3 finished with value: 0.3628196998520397 and parameters: {'C': 0.004613146632322706, 'kernel': 'poly'}. Best is trial 2 with value: 0.7109490593954766.\n",
      "[I 2024-11-03 09:08:19,979] Trial 4 finished with value: 0.5656309448319594 and parameters: {'C': 0.08860031386362646, 'kernel': 'poly'}. Best is trial 2 with value: 0.7109490593954766.\n",
      "[I 2024-11-03 09:12:20,936] Trial 5 finished with value: 0.7811244979919679 and parameters: {'C': 0.2503499373595538, 'kernel': 'rbf'}. Best is trial 5 with value: 0.7811244979919679.\n",
      "[I 2024-11-03 09:17:20,736] Trial 6 finished with value: 0.435003170577045 and parameters: {'C': 0.010999734562167593, 'kernel': 'rbf'}. Best is trial 5 with value: 0.7811244979919679.\n",
      "[I 2024-11-03 09:22:26,254] Trial 7 finished with value: 0.4458888184316212 and parameters: {'C': 0.001067567737097611, 'kernel': 'linear'}. Best is trial 5 with value: 0.7811244979919679.\n",
      "[I 2024-11-03 09:27:49,263] Trial 8 finished with value: 0.3993870217712957 and parameters: {'C': 0.0005654063792788547, 'kernel': 'rbf'}. Best is trial 5 with value: 0.7811244979919679.\n",
      "[I 2024-11-03 09:32:52,287] Trial 9 finished with value: 0.7045022194039315 and parameters: {'C': 0.22089836708286031, 'kernel': 'poly'}. Best is trial 5 with value: 0.7811244979919679.\n",
      "[I 2024-11-03 09:37:34,786] Trial 10 finished with value: 0.7759458888184316 and parameters: {'C': 5.934682585560047, 'kernel': 'linear'}. Best is trial 5 with value: 0.7811244979919679.\n",
      "[I 2024-11-03 09:43:09,297] Trial 11 finished with value: 0.7763686324244345 and parameters: {'C': 8.156682426922847, 'kernel': 'linear'}. Best is trial 5 with value: 0.7811244979919679.\n",
      "[I 2024-11-03 09:49:10,206] Trial 12 finished with value: 0.7761572606214331 and parameters: {'C': 9.424216274432748, 'kernel': 'linear'}. Best is trial 5 with value: 0.7811244979919679.\n",
      "[I 2024-11-03 09:52:17,655] Trial 13 finished with value: 0.7664341576833651 and parameters: {'C': 1.2658154373031802, 'kernel': 'linear'}. Best is trial 5 with value: 0.7811244979919679.\n",
      "[I 2024-11-03 10:00:15,487] Trial 14 finished with value: 0.8207567110547453 and parameters: {'C': 1.1437766791775932, 'kernel': 'rbf'}. Best is trial 14 with value: 0.8207567110547453.\n",
      "2024/11/03 10:09:03 WARNING mlflow.models.model: Model logged without a signature and input example. Please set `input_example` parameter when logging the model to auto infer the model signature.\n",
      "2024/11/03 10:09:10 INFO mlflow.tracking._tracking_service.client: 🏃 View run SVM_SMOTE_TFIDF_Trigrams at: https://dagshub.com/sahilbhardwaj23/Youtube-comment-Sentiment-Analysis.mlflow/#/experiments/7/runs/acb74fc3645e499191781fc7cd6f9eb2.\n",
      "2024/11/03 10:09:10 INFO mlflow.tracking._tracking_service.client: 🧪 View experiment at: https://dagshub.com/sahilbhardwaj23/Youtube-comment-Sentiment-Analysis.mlflow/#/experiments/7.\n"
     ]
    }
   ],
   "source": [
    "# Step 1: (Optional) Remapping - skipped since not strictly needed for SVM\n",
    "\n",
    "# Step 2: Remove rows where the target labels (category) are NaN\n",
    "df = df.dropna(subset=['category'])\n",
    "\n",
    "# Step 3: TF-IDF vectorizer setup\n",
    "ngram_range = (1, 3)  # Trigram\n",
    "max_features = 1000  # Set max_features to 1000\n",
    "vectorizer = TfidfVectorizer(ngram_range=ngram_range, max_features=max_features)\n",
    "X = vectorizer.fit_transform(df['clean_comment'])\n",
    "y = df['category']\n",
    "\n",
    "# Step 4: Apply SMOTE to handle class imbalance\n",
    "smote = SMOTE(random_state=42)\n",
    "X_resampled, y_resampled = smote.fit_resample(X, y)\n",
    "\n",
    "# Step 5: Train-test split\n",
    "X_train, X_test, y_train, y_test = train_test_split(X_resampled, y_resampled, test_size=0.2, random_state=42, stratify=y_resampled)\n",
    "\n",
    "# Modify log_mlflow to accept additional params argument\n",
    "def log_mlflow(model_name, model, X_train, X_test, y_train, y_test, params=None):\n",
    "    with mlflow.start_run():\n",
    "        # Log model type\n",
    "        mlflow.set_tag(\"mlflow.runName\", f\"{model_name}_SMOTE_TFIDF_Trigrams\")\n",
    "        mlflow.set_tag(\"experiment_type\", \"algorithm_comparison\")\n",
    "\n",
    "        # Log algorithm name as a parameter\n",
    "        mlflow.log_param(\"algo_name\", model_name)\n",
    "\n",
    "        # Log additional parameters (e.g., hyperparameters)\n",
    "        if params:\n",
    "            for param, value in params.items():\n",
    "                mlflow.log_param(param, value)\n",
    "\n",
    "        # Train model\n",
    "        model.fit(X_train, y_train)\n",
    "        y_pred = model.predict(X_test)\n",
    "\n",
    "        # Log accuracy\n",
    "        accuracy = accuracy_score(y_test, y_pred)\n",
    "        mlflow.log_metric(\"accuracy\", accuracy)\n",
    "\n",
    "        # Log classification report\n",
    "        classification_rep = classification_report(y_test, y_pred, output_dict=True)\n",
    "        for label, metrics in classification_rep.items():\n",
    "            if isinstance(metrics, dict):\n",
    "                for metric, value in metrics.items():\n",
    "                    mlflow.log_metric(f\"{label}_{metric}\", value)\n",
    "\n",
    "        # Log the model\n",
    "        mlflow.sklearn.log_model(model, f\"{model_name}_model\")\n",
    "\n",
    "\n",
    "\n",
    "# Step 6: Optuna objective function for SVM\n",
    "def objective_svm(trial):\n",
    "    C = trial.suggest_float('C', 1e-4, 10.0, log=True)\n",
    "    kernel = trial.suggest_categorical('kernel', ['linear', 'rbf', 'poly'])\n",
    "\n",
    "    model = SVC(C=C, kernel=kernel, random_state=42)\n",
    "    return accuracy_score(y_test, model.fit(X_train, y_train).predict(X_test))\n",
    "\n",
    "\n",
    "# Step 7: Run Optuna for SVM, log the best model only\n",
    "def run_optuna_experiment():\n",
    "    study = optuna.create_study(direction=\"maximize\")\n",
    "    study.optimize(objective_svm, n_trials=15)\n",
    "\n",
    "    # Get the best parameters and log only the best model\n",
    "    best_params = study.best_params\n",
    "    best_model = SVC(C=best_params['C'], kernel=best_params['kernel'], random_state=42)\n",
    "\n",
    "    # Log the best model with MLflow, including best_params\n",
    "    log_mlflow(\"SVM\", best_model, X_train, X_test, y_train, y_test, params=best_params)\n",
    "\n",
    "# Run the experiment for SVM\n",
    "run_optuna_experiment()\n"
   ]
  }
 ],
 "metadata": {
  "colab": {
   "provenance": []
  },
  "kernelspec": {
   "display_name": "myenv",
   "language": "python",
   "name": "python3"
  },
  "language_info": {
   "codemirror_mode": {
    "name": "ipython",
    "version": 3
   },
   "file_extension": ".py",
   "mimetype": "text/x-python",
   "name": "python",
   "nbconvert_exporter": "python",
   "pygments_lexer": "ipython3",
   "version": "3.11.4"
  }
 },
 "nbformat": 4,
 "nbformat_minor": 0
}
