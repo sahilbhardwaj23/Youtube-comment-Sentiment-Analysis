{
 "cells": [
  {
   "cell_type": "code",
   "execution_count": 7,
   "metadata": {},
   "outputs": [
    {
     "data": {
      "text/html": [
       "<pre style=\"white-space:pre;overflow-x:auto;line-height:normal;font-family:Menlo,'DejaVu Sans Mono',consolas,'Courier New',monospace\">Initialized MLflow to track repo <span style=\"color: #008000; text-decoration-color: #008000\">\"sahilbhardwaj23/Youtube-comment-Sentiment-Analysis\"</span>\n",
       "</pre>\n"
      ],
      "text/plain": [
       "Initialized MLflow to track repo \u001b[32m\"sahilbhardwaj23/Youtube-comment-Sentiment-Analysis\"\u001b[0m\n"
      ]
     },
     "metadata": {},
     "output_type": "display_data"
    },
    {
     "data": {
      "text/html": [
       "<pre style=\"white-space:pre;overflow-x:auto;line-height:normal;font-family:Menlo,'DejaVu Sans Mono',consolas,'Courier New',monospace\">Repository sahilbhardwaj23/Youtube-comment-Sentiment-Analysis initialized!\n",
       "</pre>\n"
      ],
      "text/plain": [
       "Repository sahilbhardwaj23/Youtube-comment-Sentiment-Analysis initialized!\n"
      ]
     },
     "metadata": {},
     "output_type": "display_data"
    }
   ],
   "source": [
    "import dagshub\n",
    "dagshub.init(repo_owner='sahilbhardwaj23', repo_name='Youtube-comment-Sentiment-Analysis', mlflow=True)"
   ]
  },
  {
   "cell_type": "code",
   "execution_count": 8,
   "metadata": {
    "id": "PbtsROvKl_V2"
   },
   "outputs": [],
   "source": [
    "import mlflow\n",
    "# Step 2: Set up the MLflow tracking server\n",
    "mlflow.set_tracking_uri(\"https://dagshub.com/sahilbhardwaj23/Youtube-comment-Sentiment-Analysis.mlflow\")"
   ]
  },
  {
   "cell_type": "code",
   "execution_count": 10,
   "metadata": {},
   "outputs": [],
   "source": [
    "from mlflow.tracking import MlflowClient\n",
    "import mlflow"
   ]
  },
  {
   "cell_type": "code",
   "execution_count": 12,
   "metadata": {},
   "outputs": [],
   "source": [
    "def set_or_create_experiment(experiment_name):\n",
    "    client = MlflowClient()\n",
    "    experiment = client.get_experiment_by_name(experiment_name)\n",
    "\n",
    "    # Check if the experiment exists and is active\n",
    "    if experiment:\n",
    "        if experiment.lifecycle_stage == \"active\":\n",
    "            print(f\"Using existing experiment '{experiment_name}' (ID: {experiment.experiment_id})\")\n",
    "            mlflow.set_experiment(experiment_name)\n",
    "        else:\n",
    "            # Restore if it's deleted\n",
    "            print(f\"Restoring deleted experiment '{experiment_name}' (ID: {experiment.experiment_id})\")\n",
    "            client.restore_experiment(experiment.experiment_id)\n",
    "            mlflow.set_experiment(experiment_name)\n",
    "    else:\n",
    "        # Create a new experiment if it doesn't exist\n",
    "        print(f\"Creating new experiment '{experiment_name}'\")\n",
    "        mlflow.set_experiment(experiment_name)\n",
    "\n"
   ]
  },
  {
   "cell_type": "code",
   "execution_count": 13,
   "metadata": {
    "colab": {
     "base_uri": "https://localhost:8080/"
    },
    "id": "ORtN_HMHmJC-",
    "outputId": "2dbeac9e-d1ca-4aac-b1a8-ad6f80969add"
   },
   "outputs": [
    {
     "name": "stdout",
     "output_type": "stream",
     "text": [
      "Using existing experiment 'Exp 3 - TfIdf Trigram max_features' (ID: 4)\n"
     ]
    }
   ],
   "source": [
    "\n",
    "# Set or create the experiment\n",
    "set_or_create_experiment(\"Exp 3 - TfIdf Trigram max_features\")"
   ]
  },
  {
   "cell_type": "code",
   "execution_count": 14,
   "metadata": {
    "id": "zMUpXMeSmQiH"
   },
   "outputs": [],
   "source": [
    "from sklearn.feature_extraction.text import TfidfVectorizer\n",
    "from sklearn.ensemble import RandomForestClassifier\n",
    "from sklearn.model_selection import train_test_split\n",
    "from sklearn.metrics import accuracy_score, classification_report, confusion_matrix\n",
    "import mlflow\n",
    "import mlflow.sklearn\n",
    "import matplotlib.pyplot as plt\n",
    "import seaborn as sns\n",
    "import pandas as pd\n",
    "import os"
   ]
  },
  {
   "cell_type": "code",
   "execution_count": 15,
   "metadata": {
    "colab": {
     "base_uri": "https://localhost:8080/"
    },
    "id": "iA8IXLHhmT_r",
    "outputId": "0ba9b490-a5b5-45f1-e4d1-970fa72a06e2"
   },
   "outputs": [
    {
     "data": {
      "text/plain": [
       "(36662, 2)"
      ]
     },
     "execution_count": 15,
     "metadata": {},
     "output_type": "execute_result"
    }
   ],
   "source": [
    "df = pd.read_csv('reddit_preprocessing.csv').dropna(subset=['clean_comment'])\n",
    "df.shape"
   ]
  },
  {
   "cell_type": "code",
   "execution_count": 16,
   "metadata": {
    "colab": {
     "base_uri": "https://localhost:8080/"
    },
    "id": "99A50tSPmXde",
    "outputId": "7e8ba218-6c10-4d91-cb43-ff0825a8a9ca"
   },
   "outputs": [
    {
     "name": "stderr",
     "output_type": "stream",
     "text": [
      "2024/11/02 11:08:10 WARNING mlflow.models.model: Model logged without a signature and input example. Please set `input_example` parameter when logging the model to auto infer the model signature.\n",
      "2024/11/02 11:08:19 INFO mlflow.tracking._tracking_service.client: 🏃 View run TFIDF_Trigrams_max_features_1000 at: https://dagshub.com/sahilbhardwaj23/Youtube-comment-Sentiment-Analysis.mlflow/#/experiments/4/runs/952bb80415ce4b9da253a6bf788dc3de.\n",
      "2024/11/02 11:08:19 INFO mlflow.tracking._tracking_service.client: 🧪 View experiment at: https://dagshub.com/sahilbhardwaj23/Youtube-comment-Sentiment-Analysis.mlflow/#/experiments/4.\n",
      "2024/11/02 11:09:05 WARNING mlflow.models.model: Model logged without a signature and input example. Please set `input_example` parameter when logging the model to auto infer the model signature.\n",
      "2024/11/02 11:09:13 INFO mlflow.tracking._tracking_service.client: 🏃 View run TFIDF_Trigrams_max_features_2000 at: https://dagshub.com/sahilbhardwaj23/Youtube-comment-Sentiment-Analysis.mlflow/#/experiments/4/runs/e7579a599fb34cf581a3b7d74bf62002.\n",
      "2024/11/02 11:09:13 INFO mlflow.tracking._tracking_service.client: 🧪 View experiment at: https://dagshub.com/sahilbhardwaj23/Youtube-comment-Sentiment-Analysis.mlflow/#/experiments/4.\n",
      "2024/11/02 11:09:54 WARNING mlflow.models.model: Model logged without a signature and input example. Please set `input_example` parameter when logging the model to auto infer the model signature.\n",
      "2024/11/02 11:10:01 INFO mlflow.tracking._tracking_service.client: 🏃 View run TFIDF_Trigrams_max_features_3000 at: https://dagshub.com/sahilbhardwaj23/Youtube-comment-Sentiment-Analysis.mlflow/#/experiments/4/runs/b585b02876284c33ae433303dfbad902.\n",
      "2024/11/02 11:10:01 INFO mlflow.tracking._tracking_service.client: 🧪 View experiment at: https://dagshub.com/sahilbhardwaj23/Youtube-comment-Sentiment-Analysis.mlflow/#/experiments/4.\n",
      "2024/11/02 11:10:43 WARNING mlflow.models.model: Model logged without a signature and input example. Please set `input_example` parameter when logging the model to auto infer the model signature.\n",
      "2024/11/02 11:10:49 INFO mlflow.tracking._tracking_service.client: 🏃 View run TFIDF_Trigrams_max_features_4000 at: https://dagshub.com/sahilbhardwaj23/Youtube-comment-Sentiment-Analysis.mlflow/#/experiments/4/runs/c65a9f19b34a4b60aaae0a0c45d5c3b6.\n",
      "2024/11/02 11:10:49 INFO mlflow.tracking._tracking_service.client: 🧪 View experiment at: https://dagshub.com/sahilbhardwaj23/Youtube-comment-Sentiment-Analysis.mlflow/#/experiments/4.\n",
      "2024/11/02 11:11:30 WARNING mlflow.models.model: Model logged without a signature and input example. Please set `input_example` parameter when logging the model to auto infer the model signature.\n",
      "2024/11/02 11:11:38 INFO mlflow.tracking._tracking_service.client: 🏃 View run TFIDF_Trigrams_max_features_5000 at: https://dagshub.com/sahilbhardwaj23/Youtube-comment-Sentiment-Analysis.mlflow/#/experiments/4/runs/b1684b34ce374c37861738d2f7f5ab07.\n",
      "2024/11/02 11:11:38 INFO mlflow.tracking._tracking_service.client: 🧪 View experiment at: https://dagshub.com/sahilbhardwaj23/Youtube-comment-Sentiment-Analysis.mlflow/#/experiments/4.\n",
      "2024/11/02 11:12:18 WARNING mlflow.models.model: Model logged without a signature and input example. Please set `input_example` parameter when logging the model to auto infer the model signature.\n",
      "2024/11/02 11:12:24 INFO mlflow.tracking._tracking_service.client: 🏃 View run TFIDF_Trigrams_max_features_6000 at: https://dagshub.com/sahilbhardwaj23/Youtube-comment-Sentiment-Analysis.mlflow/#/experiments/4/runs/d890dbe5e2c14dafb56a0b013f58f95b.\n",
      "2024/11/02 11:12:24 INFO mlflow.tracking._tracking_service.client: 🧪 View experiment at: https://dagshub.com/sahilbhardwaj23/Youtube-comment-Sentiment-Analysis.mlflow/#/experiments/4.\n",
      "2024/11/02 11:13:03 WARNING mlflow.models.model: Model logged without a signature and input example. Please set `input_example` parameter when logging the model to auto infer the model signature.\n",
      "2024/11/02 11:13:10 INFO mlflow.tracking._tracking_service.client: 🏃 View run TFIDF_Trigrams_max_features_7000 at: https://dagshub.com/sahilbhardwaj23/Youtube-comment-Sentiment-Analysis.mlflow/#/experiments/4/runs/e28b527339834eb79a1493c4cd0425a7.\n",
      "2024/11/02 11:13:10 INFO mlflow.tracking._tracking_service.client: 🧪 View experiment at: https://dagshub.com/sahilbhardwaj23/Youtube-comment-Sentiment-Analysis.mlflow/#/experiments/4.\n",
      "2024/11/02 11:13:51 WARNING mlflow.models.model: Model logged without a signature and input example. Please set `input_example` parameter when logging the model to auto infer the model signature.\n",
      "2024/11/02 11:13:57 INFO mlflow.tracking._tracking_service.client: 🏃 View run TFIDF_Trigrams_max_features_8000 at: https://dagshub.com/sahilbhardwaj23/Youtube-comment-Sentiment-Analysis.mlflow/#/experiments/4/runs/d1c8d3ab88624941995d9936cb13def7.\n",
      "2024/11/02 11:13:57 INFO mlflow.tracking._tracking_service.client: 🧪 View experiment at: https://dagshub.com/sahilbhardwaj23/Youtube-comment-Sentiment-Analysis.mlflow/#/experiments/4.\n",
      "2024/11/02 11:14:38 WARNING mlflow.models.model: Model logged without a signature and input example. Please set `input_example` parameter when logging the model to auto infer the model signature.\n",
      "2024/11/02 11:14:45 INFO mlflow.tracking._tracking_service.client: 🏃 View run TFIDF_Trigrams_max_features_9000 at: https://dagshub.com/sahilbhardwaj23/Youtube-comment-Sentiment-Analysis.mlflow/#/experiments/4/runs/e85d76598ac742f3bf8b2ac4ff9a7a10.\n",
      "2024/11/02 11:14:45 INFO mlflow.tracking._tracking_service.client: 🧪 View experiment at: https://dagshub.com/sahilbhardwaj23/Youtube-comment-Sentiment-Analysis.mlflow/#/experiments/4.\n",
      "2024/11/02 11:15:26 WARNING mlflow.models.model: Model logged without a signature and input example. Please set `input_example` parameter when logging the model to auto infer the model signature.\n",
      "2024/11/02 11:15:32 INFO mlflow.tracking._tracking_service.client: 🏃 View run TFIDF_Trigrams_max_features_10000 at: https://dagshub.com/sahilbhardwaj23/Youtube-comment-Sentiment-Analysis.mlflow/#/experiments/4/runs/24d3d60f897447c48ae9a2d99bb01f6c.\n",
      "2024/11/02 11:15:32 INFO mlflow.tracking._tracking_service.client: 🧪 View experiment at: https://dagshub.com/sahilbhardwaj23/Youtube-comment-Sentiment-Analysis.mlflow/#/experiments/4.\n"
     ]
    }
   ],
   "source": [
    "# Step 1: Function to run the experiment\n",
    "def run_experiment_tfidf_max_features(max_features):\n",
    "    ngram_range = (1, 3)  # Trigram setting\n",
    "\n",
    "    # Step 2: Vectorization using TF-IDF with varying max_features\n",
    "    vectorizer = TfidfVectorizer(ngram_range=ngram_range, max_features=max_features)\n",
    "\n",
    "    X_train, X_test, y_train, y_test = train_test_split(df['clean_comment'], df['category'], test_size=0.2, random_state=42, stratify=df['category'])\n",
    "\n",
    "    X_train = vectorizer.fit_transform(X_train)\n",
    "    X_test = vectorizer.transform(X_test)\n",
    "\n",
    "    # Step 4: Define and train a Random Forest model\n",
    "    with mlflow.start_run() as run:\n",
    "        # Set tags for the experiment and run\n",
    "        mlflow.set_tag(\"mlflow.runName\", f\"TFIDF_Trigrams_max_features_{max_features}\")\n",
    "        mlflow.set_tag(\"experiment_type\", \"feature_engineering\")\n",
    "        mlflow.set_tag(\"model_type\", \"RandomForestClassifier\")\n",
    "\n",
    "        # Add a description\n",
    "        mlflow.set_tag(\"description\", f\"RandomForest with TF-IDF Trigrams, max_features={max_features}\")\n",
    "\n",
    "        # Log vectorizer parameters\n",
    "        mlflow.log_param(\"vectorizer_type\", \"TF-IDF\")\n",
    "        mlflow.log_param(\"ngram_range\", ngram_range)\n",
    "        mlflow.log_param(\"vectorizer_max_features\", max_features)\n",
    "\n",
    "        # Log Random Forest parameters\n",
    "        n_estimators = 200\n",
    "        max_depth = 15\n",
    "\n",
    "        mlflow.log_param(\"n_estimators\", n_estimators)\n",
    "        mlflow.log_param(\"max_depth\", max_depth)\n",
    "\n",
    "        # Initialize and train the model\n",
    "        model = RandomForestClassifier(n_estimators=n_estimators, max_depth=max_depth, random_state=42)\n",
    "        model.fit(X_train, y_train)\n",
    "\n",
    "        # Step 5: Make predictions and log metrics\n",
    "        y_pred = model.predict(X_test)\n",
    "\n",
    "        # Log accuracy\n",
    "        accuracy = accuracy_score(y_test, y_pred)\n",
    "        mlflow.log_metric(\"accuracy\", accuracy)\n",
    "\n",
    "        # Log classification report\n",
    "        classification_rep = classification_report(y_test, y_pred, output_dict=True)\n",
    "        for label, metrics in classification_rep.items():\n",
    "            if isinstance(metrics, dict):\n",
    "                for metric, value in metrics.items():\n",
    "                    mlflow.log_metric(f\"{label}_{metric}\", value)\n",
    "\n",
    "        # Log confusion matrix\n",
    "        conf_matrix = confusion_matrix(y_test, y_pred)\n",
    "        plt.figure(figsize=(8, 6))\n",
    "        sns.heatmap(conf_matrix, annot=True, fmt=\"d\", cmap=\"Blues\")\n",
    "        plt.xlabel(\"Predicted\")\n",
    "        plt.ylabel(\"Actual\")\n",
    "        plt.title(f\"Confusion Matrix: TF-IDF Trigrams, max_features={max_features}\")\n",
    "        plt.savefig(\"TF-IDF_confusion_matrix.png\")\n",
    "        mlflow.log_artifact(\"TF-IDF_confusion_matrix.png\")\n",
    "        plt.close()\n",
    "\n",
    "        # Log the model\n",
    "        mlflow.sklearn.log_model(model, f\"random_forest_model_tfidf_trigrams_{max_features}\")\n",
    "\n",
    "# Step 6: Test various max_features values\n",
    "max_features_values = [1000, 2000, 3000, 4000, 5000, 6000, 7000, 8000, 9000, 10000]\n",
    "\n",
    "for max_features in max_features_values:\n",
    "    run_experiment_tfidf_max_features(max_features)"
   ]
  }
 ],
 "metadata": {
  "colab": {
   "provenance": []
  },
  "kernelspec": {
   "display_name": "myenv",
   "language": "python",
   "name": "python3"
  },
  "language_info": {
   "codemirror_mode": {
    "name": "ipython",
    "version": 3
   },
   "file_extension": ".py",
   "mimetype": "text/x-python",
   "name": "python",
   "nbconvert_exporter": "python",
   "pygments_lexer": "ipython3",
   "version": "3.11.4"
  }
 },
 "nbformat": 4,
 "nbformat_minor": 0
}
