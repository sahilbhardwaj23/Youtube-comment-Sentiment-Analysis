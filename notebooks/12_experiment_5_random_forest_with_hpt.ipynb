{
 "cells": [
  {
   "cell_type": "code",
   "execution_count": null,
   "metadata": {},
   "outputs": [],
   "source": [
    "import dagshub\n",
    "dagshub.init(repo_owner='sahilbhardwaj23', repo_name='Youtube-comment-Sentiment-Analysis', mlflow=True)"
   ]
  },
  {
   "cell_type": "code",
   "execution_count": null,
   "metadata": {
    "id": "IZ-BK2TaNIbe"
   },
   "outputs": [],
   "source": [
    "import mlflow\n",
    "# Step 2: Set up the MLflow tracking server\n",
    "mlflow.set_tracking_uri(\"https://dagshub.com/sahilbhardwaj23/Youtube-comment-Sentiment-Analysis.mlflow\")"
   ]
  },
  {
   "cell_type": "code",
   "execution_count": null,
   "metadata": {},
   "outputs": [],
   "source": [
    "from mlflow.tracking import MlflowClient\n",
    "import mlflow"
   ]
  },
  {
   "cell_type": "code",
   "execution_count": null,
   "metadata": {},
   "outputs": [],
   "source": [
    "def set_or_create_experiment(experiment_name):\n",
    "    client = MlflowClient()\n",
    "    experiment = client.get_experiment_by_name(experiment_name)\n",
    "\n",
    "    # Check if the experiment exists and is active\n",
    "    if experiment:\n",
    "        if experiment.lifecycle_stage == \"active\":\n",
    "            print(f\"Using existing experiment '{experiment_name}' (ID: {experiment.experiment_id})\")\n",
    "            mlflow.set_experiment(experiment_name)\n",
    "        else:\n",
    "            # Restore if it's deleted\n",
    "            print(f\"Restoring deleted experiment '{experiment_name}' (ID: {experiment.experiment_id})\")\n",
    "            client.restore_experiment(experiment.experiment_id)\n",
    "            mlflow.set_experiment(experiment_name)\n",
    "    else:\n",
    "        # Create a new experiment if it doesn't exist\n",
    "        print(f\"Creating new experiment '{experiment_name}'\")\n",
    "        mlflow.set_experiment(experiment_name)\n",
    "\n"
   ]
  },
  {
   "cell_type": "code",
   "execution_count": null,
   "metadata": {
    "colab": {
     "base_uri": "https://localhost:8080/"
    },
    "id": "fFQmSXn-NRSd",
    "outputId": "0501efcb-2189-4434-b271-548d1bbcda4d"
   },
   "outputs": [
    {
     "data": {
      "text/plain": [
       "<Experiment: artifact_location='s3://campusx-mlflow/608990915555109586', creation_time=1728589727081, experiment_id='608990915555109586', last_update_time=1728589727081, lifecycle_stage='active', name='ML Algos with HP Tuning', tags={}>"
      ]
     },
     "execution_count": 4,
     "metadata": {},
     "output_type": "execute_result"
    }
   ],
   "source": [
    "# Set or create an experiment\n",
    "set_or_create_experiment(\"ML Algos with HP Tuning\")"
   ]
  },
  {
   "cell_type": "code",
   "execution_count": null,
   "metadata": {
    "id": "4uuO21DuNTpB"
   },
   "outputs": [],
   "source": [
    "import pandas as pd\n",
    "from sklearn.feature_extraction.text import TfidfVectorizer\n",
    "from sklearn.model_selection import train_test_split\n",
    "from sklearn.ensemble import RandomForestClassifier\n",
    "from sklearn.metrics import accuracy_score, classification_report\n",
    "from imblearn.over_sampling import SMOTE\n",
    "import mlflow\n",
    "import mlflow.sklearn\n",
    "import optuna\n"
   ]
  },
  {
   "cell_type": "code",
   "execution_count": null,
   "metadata": {
    "colab": {
     "base_uri": "https://localhost:8080/"
    },
    "id": "-5y38KliNmzU",
    "outputId": "2be847c9-14a8-4406-8547-c85fc34f650c"
   },
   "outputs": [
    {
     "data": {
      "text/plain": [
       "(36662, 2)"
      ]
     },
     "execution_count": 6,
     "metadata": {},
     "output_type": "execute_result"
    }
   ],
   "source": [
    "df = pd.read_csv('/content/reddit_preprocessing.csv').dropna()\n",
    "df.shape"
   ]
  },
  {
   "cell_type": "code",
   "execution_count": null,
   "metadata": {
    "colab": {
     "base_uri": "https://localhost:8080/"
    },
    "id": "dZxnJ1FWNtuL",
    "outputId": "abf3cf85-c371-483c-9107-97f75621cb89"
   },
   "outputs": [
    {
     "name": "stderr",
     "output_type": "stream",
     "text": [
      "[I 2024-10-11 06:15:13,766] A new study created in memory with name: no-name-0383aaa3-d01b-4caa-9c46-81c1cb3a340d\n",
      "[I 2024-10-11 06:15:19,765] Trial 0 finished with value: 0.7019657577679138 and parameters: {'n_estimators': 120, 'max_depth': 20, 'min_samples_split': 15, 'min_samples_leaf': 5}. Best is trial 0 with value: 0.7019657577679138.\n",
      "[I 2024-10-11 06:15:22,847] Trial 1 finished with value: 0.6867469879518072 and parameters: {'n_estimators': 86, 'max_depth': 14, 'min_samples_split': 5, 'min_samples_leaf': 5}. Best is trial 0 with value: 0.7019657577679138.\n",
      "[I 2024-10-11 06:15:25,575] Trial 2 finished with value: 0.6614880574931304 and parameters: {'n_estimators': 91, 'max_depth': 8, 'min_samples_split': 2, 'min_samples_leaf': 1}. Best is trial 0 with value: 0.7019657577679138.\n",
      "[I 2024-10-11 06:15:33,927] Trial 3 finished with value: 0.6901289367998309 and parameters: {'n_estimators': 222, 'max_depth': 15, 'min_samples_split': 20, 'min_samples_leaf': 6}. Best is trial 0 with value: 0.7019657577679138.\n",
      "[I 2024-10-11 06:15:35,683] Trial 4 finished with value: 0.6329528640879307 and parameters: {'n_estimators': 129, 'max_depth': 4, 'min_samples_split': 19, 'min_samples_leaf': 11}. Best is trial 0 with value: 0.7019657577679138.\n",
      "[I 2024-10-11 06:15:41,713] Trial 5 finished with value: 0.6955189177763687 and parameters: {'n_estimators': 140, 'max_depth': 20, 'min_samples_split': 7, 'min_samples_leaf': 18}. Best is trial 0 with value: 0.7019657577679138.\n",
      "[I 2024-10-11 06:15:52,860] Trial 6 finished with value: 0.696998520397379 and parameters: {'n_estimators': 262, 'max_depth': 19, 'min_samples_split': 14, 'min_samples_leaf': 10}. Best is trial 0 with value: 0.7019657577679138.\n",
      "[I 2024-10-11 06:15:57,028] Trial 7 finished with value: 0.6726907630522089 and parameters: {'n_estimators': 154, 'max_depth': 12, 'min_samples_split': 11, 'min_samples_leaf': 17}. Best is trial 0 with value: 0.7019657577679138.\n",
      "[I 2024-10-11 06:16:03,415] Trial 8 finished with value: 0.6820968082857747 and parameters: {'n_estimators': 230, 'max_depth': 14, 'min_samples_split': 13, 'min_samples_leaf': 15}. Best is trial 0 with value: 0.7019657577679138.\n",
      "[I 2024-10-11 06:16:11,415] Trial 9 finished with value: 0.6948848023673642 and parameters: {'n_estimators': 169, 'max_depth': 16, 'min_samples_split': 17, 'min_samples_leaf': 8}. Best is trial 0 with value: 0.7019657577679138.\n",
      "[I 2024-10-11 06:16:12,626] Trial 10 finished with value: 0.645001056859015 and parameters: {'n_estimators': 54, 'max_depth': 8, 'min_samples_split': 11, 'min_samples_leaf': 1}. Best is trial 0 with value: 0.7019657577679138.\n",
      "[I 2024-10-11 06:16:25,020] Trial 11 finished with value: 0.6972098922003804 and parameters: {'n_estimators': 291, 'max_depth': 20, 'min_samples_split': 14, 'min_samples_leaf': 12}. Best is trial 0 with value: 0.7019657577679138.\n",
      "[I 2024-10-11 06:16:36,854] Trial 12 finished with value: 0.6959416613823716 and parameters: {'n_estimators': 297, 'max_depth': 19, 'min_samples_split': 16, 'min_samples_leaf': 13}. Best is trial 0 with value: 0.7019657577679138.\n",
      "[I 2024-10-11 06:16:45,205] Trial 13 finished with value: 0.699852039737899 and parameters: {'n_estimators': 203, 'max_depth': 17, 'min_samples_split': 8, 'min_samples_leaf': 5}. Best is trial 0 with value: 0.7019657577679138.\n",
      "[I 2024-10-11 06:16:54,649] Trial 14 finished with value: 0.70143732826041 and parameters: {'n_estimators': 199, 'max_depth': 17, 'min_samples_split': 8, 'min_samples_leaf': 4}. Best is trial 0 with value: 0.7019657577679138.\n",
      "[I 2024-10-11 06:17:04,262] Trial 15 finished with value: 0.7006975269499048 and parameters: {'n_estimators': 192, 'max_depth': 17, 'min_samples_split': 8, 'min_samples_leaf': 3}. Best is trial 0 with value: 0.7019657577679138.\n",
      "[I 2024-10-11 06:17:07,030] Trial 16 finished with value: 0.6615937433946312 and parameters: {'n_estimators': 112, 'max_depth': 10, 'min_samples_split': 4, 'min_samples_leaf': 8}. Best is trial 0 with value: 0.7019657577679138.\n",
      "[I 2024-10-11 06:17:17,514] Trial 17 finished with value: 0.699006552525893 and parameters: {'n_estimators': 174, 'max_depth': 18, 'min_samples_split': 10, 'min_samples_leaf': 8}. Best is trial 0 with value: 0.7019657577679138.\n",
      "[I 2024-10-11 06:17:25,020] Trial 18 finished with value: 0.6830479813992814 and parameters: {'n_estimators': 248, 'max_depth': 12, 'min_samples_split': 16, 'min_samples_leaf': 3}. Best is trial 0 with value: 0.7019657577679138.\n",
      "[I 2024-10-11 06:17:31,041] Trial 19 finished with value: 0.6971042062988797 and parameters: {'n_estimators': 114, 'max_depth': 16, 'min_samples_split': 12, 'min_samples_leaf': 3}. Best is trial 0 with value: 0.7019657577679138.\n",
      "[I 2024-10-11 06:17:31,782] Trial 20 finished with value: 0.6083280490382583 and parameters: {'n_estimators': 58, 'max_depth': 3, 'min_samples_split': 9, 'min_samples_leaf': 7}. Best is trial 0 with value: 0.7019657577679138.\n",
      "[I 2024-10-11 06:17:41,625] Trial 21 finished with value: 0.7060875079264426 and parameters: {'n_estimators': 193, 'max_depth': 18, 'min_samples_split': 6, 'min_samples_leaf': 3}. Best is trial 21 with value: 0.7060875079264426.\n",
      "[I 2024-10-11 06:17:51,351] Trial 22 finished with value: 0.7043965335024308 and parameters: {'n_estimators': 195, 'max_depth': 18, 'min_samples_split': 6, 'min_samples_leaf': 4}. Best is trial 21 with value: 0.7060875079264426.\n",
      "[I 2024-10-11 06:18:01,726] Trial 23 finished with value: 0.7119002325089833 and parameters: {'n_estimators': 160, 'max_depth': 20, 'min_samples_split': 5, 'min_samples_leaf': 2}. Best is trial 23 with value: 0.7119002325089833.\n",
      "[I 2024-10-11 06:18:11,288] Trial 24 finished with value: 0.7096808285774677 and parameters: {'n_estimators': 162, 'max_depth': 18, 'min_samples_split': 5, 'min_samples_leaf': 1}. Best is trial 23 with value: 0.7119002325089833.\n",
      "[I 2024-10-11 06:18:17,254] Trial 25 finished with value: 0.6953075459733672 and parameters: {'n_estimators': 154, 'max_depth': 14, 'min_samples_split': 2, 'min_samples_leaf': 1}. Best is trial 23 with value: 0.7119002325089833.\n",
      "[I 2024-10-11 06:18:25,993] Trial 26 finished with value: 0.7089410272669626 and parameters: {'n_estimators': 156, 'max_depth': 18, 'min_samples_split': 4, 'min_samples_leaf': 2}. Best is trial 23 with value: 0.7119002325089833.\n",
      "[I 2024-10-11 06:18:30,875] Trial 27 finished with value: 0.6962587190868738 and parameters: {'n_estimators': 147, 'max_depth': 19, 'min_samples_split': 3, 'min_samples_leaf': 20}. Best is trial 23 with value: 0.7119002325089833.\n",
      "[I 2024-10-11 06:18:38,586] Trial 28 finished with value: 0.6984781230183893 and parameters: {'n_estimators': 166, 'max_depth': 15, 'min_samples_split': 4, 'min_samples_leaf': 1}. Best is trial 23 with value: 0.7119002325089833.\n",
      "[I 2024-10-11 06:18:40,970] Trial 29 finished with value: 0.6671950961741704 and parameters: {'n_estimators': 94, 'max_depth': 10, 'min_samples_split': 5, 'min_samples_leaf': 2}. Best is trial 23 with value: 0.7119002325089833.\n",
      "2024/10/11 06:18:57 WARNING mlflow.models.model: Model logged without a signature and input example. Please set `input_example` parameter when logging the model to auto infer the model signature.\n",
      "2024/10/11 06:18:58 INFO mlflow.tracking._tracking_service.client: 🏃 View run RandomForest_SMOTE_TFIDF_Trigrams at: http://ec2-54-196-109-131.compute-1.amazonaws.com:5000/#/experiments/608990915555109586/runs/ce868a6625c84425849fd6886a546d56.\n",
      "2024/10/11 06:18:58 INFO mlflow.tracking._tracking_service.client: 🧪 View experiment at: http://ec2-54-196-109-131.compute-1.amazonaws.com:5000/#/experiments/608990915555109586.\n"
     ]
    }
   ],
   "source": [
    "# Step 1: (Optional) Remapping - skipped since not strictly needed for Random Forest\n",
    "\n",
    "# Step 2: Remove rows where the target labels (category) are NaN\n",
    "df = df.dropna(subset=['category'])\n",
    "\n",
    "# Step 3: TF-IDF vectorizer setup\n",
    "ngram_range = (1, 3)  # Trigram\n",
    "max_features = 1000  # Set max_features to 1000\n",
    "vectorizer = TfidfVectorizer(ngram_range=ngram_range, max_features=max_features)\n",
    "X = vectorizer.fit_transform(df['clean_comment'])\n",
    "y = df['category']\n",
    "\n",
    "# Step 4: Apply SMOTE to handle class imbalance\n",
    "smote = SMOTE(random_state=42)\n",
    "X_resampled, y_resampled = smote.fit_resample(X, y)\n",
    "\n",
    "# Step 5: Train-test split\n",
    "X_train, X_test, y_train, y_test = train_test_split(X_resampled, y_resampled, test_size=0.2, random_state=42, stratify=y_resampled)\n",
    "\n",
    "# Function to log results in MLflow\n",
    "def log_mlflow(model_name, model, X_train, X_test, y_train, y_test):\n",
    "    with mlflow.start_run():\n",
    "        # Log model type\n",
    "        mlflow.set_tag(\"mlflow.runName\", f\"{model_name}_SMOTE_TFIDF_Trigrams\")\n",
    "        mlflow.set_tag(\"experiment_type\", \"algorithm_comparison\")\n",
    "\n",
    "        # Log algorithm name as a parameter\n",
    "        mlflow.log_param(\"algo_name\", model_name)\n",
    "\n",
    "        # Train model\n",
    "        model.fit(X_train, y_train)\n",
    "        y_pred = model.predict(X_test)\n",
    "\n",
    "        # Log accuracy\n",
    "        accuracy = accuracy_score(y_test, y_pred)\n",
    "        mlflow.log_metric(\"accuracy\", accuracy)\n",
    "\n",
    "        # Log classification report\n",
    "        classification_rep = classification_report(y_test, y_pred, output_dict=True)\n",
    "        for label, metrics in classification_rep.items():\n",
    "            if isinstance(metrics, dict):\n",
    "                for metric, value in metrics.items():\n",
    "                    mlflow.log_metric(f\"{label}_{metric}\", value)\n",
    "\n",
    "        # Log the model\n",
    "        mlflow.sklearn.log_model(model, f\"{model_name}_model\")\n",
    "\n",
    "\n",
    "# Step 6: Optuna objective function for Random Forest\n",
    "def objective_rf(trial):\n",
    "    n_estimators = trial.suggest_int('n_estimators', 50, 300)  # Number of trees in the forest\n",
    "    max_depth = trial.suggest_int('max_depth', 3, 20)  # Maximum depth of the tree\n",
    "    min_samples_split = trial.suggest_int('min_samples_split', 2, 20)  # Minimum samples required to split a node\n",
    "    min_samples_leaf = trial.suggest_int('min_samples_leaf', 1, 20)  # Minimum samples required at a leaf node\n",
    "\n",
    "    # RandomForestClassifier setup\n",
    "    model = RandomForestClassifier(n_estimators=n_estimators, max_depth=max_depth,\n",
    "                                   min_samples_split=min_samples_split, min_samples_leaf=min_samples_leaf,\n",
    "                                   random_state=42)\n",
    "    return accuracy_score(y_test, model.fit(X_train, y_train).predict(X_test))\n",
    "\n",
    "\n",
    "# Step 7: Run Optuna for Random Forest, log the best model only\n",
    "def run_optuna_experiment():\n",
    "    study = optuna.create_study(direction=\"maximize\")\n",
    "    study.optimize(objective_rf, n_trials=30)\n",
    "\n",
    "    # Get the best parameters and log only the best model\n",
    "    best_params = study.best_params\n",
    "    best_model = RandomForestClassifier(n_estimators=best_params['n_estimators'],\n",
    "                                        max_depth=best_params['max_depth'],\n",
    "                                        min_samples_split=best_params['min_samples_split'],\n",
    "                                        min_samples_leaf=best_params['min_samples_leaf'],\n",
    "                                        random_state=42)\n",
    "\n",
    "    # Log the best model with MLflow, passing the algo_name as \"RandomForest\"\n",
    "    log_mlflow(\"RandomForest\", best_model, X_train, X_test, y_train, y_test)\n",
    "\n",
    "# Run the experiment for Random Forest\n",
    "run_optuna_experiment()\n"
   ]
  },
  {
   "cell_type": "code",
   "execution_count": null,
   "metadata": {
    "id": "R2i90uhJNxuk"
   },
   "outputs": [],
   "source": []
  }
 ],
 "metadata": {
  "colab": {
   "provenance": []
  },
  "kernelspec": {
   "display_name": "Python 3",
   "name": "python3"
  },
  "language_info": {
   "name": "python"
  }
 },
 "nbformat": 4,
 "nbformat_minor": 0
}
