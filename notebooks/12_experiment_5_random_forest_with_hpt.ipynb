{
 "cells": [
  {
   "cell_type": "code",
   "execution_count": 1,
   "metadata": {},
   "outputs": [
    {
     "data": {
      "text/html": [
       "<pre style=\"white-space:pre;overflow-x:auto;line-height:normal;font-family:Menlo,'DejaVu Sans Mono',consolas,'Courier New',monospace\">Accessing as sahilbhardwaj23\n",
       "</pre>\n"
      ],
      "text/plain": [
       "Accessing as sahilbhardwaj23\n"
      ]
     },
     "metadata": {},
     "output_type": "display_data"
    },
    {
     "data": {
      "text/html": [
       "<pre style=\"white-space:pre;overflow-x:auto;line-height:normal;font-family:Menlo,'DejaVu Sans Mono',consolas,'Courier New',monospace\">Initialized MLflow to track repo <span style=\"color: #008000; text-decoration-color: #008000\">\"sahilbhardwaj23/Youtube-comment-Sentiment-Analysis\"</span>\n",
       "</pre>\n"
      ],
      "text/plain": [
       "Initialized MLflow to track repo \u001b[32m\"sahilbhardwaj23/Youtube-comment-Sentiment-Analysis\"\u001b[0m\n"
      ]
     },
     "metadata": {},
     "output_type": "display_data"
    },
    {
     "data": {
      "text/html": [
       "<pre style=\"white-space:pre;overflow-x:auto;line-height:normal;font-family:Menlo,'DejaVu Sans Mono',consolas,'Courier New',monospace\">Repository sahilbhardwaj23/Youtube-comment-Sentiment-Analysis initialized!\n",
       "</pre>\n"
      ],
      "text/plain": [
       "Repository sahilbhardwaj23/Youtube-comment-Sentiment-Analysis initialized!\n"
      ]
     },
     "metadata": {},
     "output_type": "display_data"
    }
   ],
   "source": [
    "import dagshub\n",
    "dagshub.init(repo_owner='sahilbhardwaj23', repo_name='Youtube-comment-Sentiment-Analysis', mlflow=True)"
   ]
  },
  {
   "cell_type": "code",
   "execution_count": 2,
   "metadata": {
    "id": "IZ-BK2TaNIbe"
   },
   "outputs": [],
   "source": [
    "import mlflow\n",
    "# Step 2: Set up the MLflow tracking server\n",
    "mlflow.set_tracking_uri(\"https://dagshub.com/sahilbhardwaj23/Youtube-comment-Sentiment-Analysis.mlflow\")"
   ]
  },
  {
   "cell_type": "code",
   "execution_count": 3,
   "metadata": {},
   "outputs": [],
   "source": [
    "from mlflow.tracking import MlflowClient\n",
    "import mlflow"
   ]
  },
  {
   "cell_type": "code",
   "execution_count": 4,
   "metadata": {},
   "outputs": [],
   "source": [
    "def set_or_create_experiment(experiment_name):\n",
    "    client = MlflowClient()\n",
    "    experiment = client.get_experiment_by_name(experiment_name)\n",
    "\n",
    "    # Check if the experiment exists and is active\n",
    "    if experiment:\n",
    "        if experiment.lifecycle_stage == \"active\":\n",
    "            print(f\"Using existing experiment '{experiment_name}' (ID: {experiment.experiment_id})\")\n",
    "            mlflow.set_experiment(experiment_name)\n",
    "        else:\n",
    "            # Restore if it's deleted\n",
    "            print(f\"Restoring deleted experiment '{experiment_name}' (ID: {experiment.experiment_id})\")\n",
    "            client.restore_experiment(experiment.experiment_id)\n",
    "            mlflow.set_experiment(experiment_name)\n",
    "    else:\n",
    "        # Create a new experiment if it doesn't exist\n",
    "        print(f\"Creating new experiment '{experiment_name}'\")\n",
    "        mlflow.set_experiment(experiment_name)\n",
    "\n"
   ]
  },
  {
   "cell_type": "code",
   "execution_count": 5,
   "metadata": {
    "colab": {
     "base_uri": "https://localhost:8080/"
    },
    "id": "fFQmSXn-NRSd",
    "outputId": "0501efcb-2189-4434-b271-548d1bbcda4d"
   },
   "outputs": [
    {
     "name": "stdout",
     "output_type": "stream",
     "text": [
      "Using existing experiment 'ML Algos with HP Tuning' (ID: 7)\n"
     ]
    }
   ],
   "source": [
    "# Set or create an experiment\n",
    "set_or_create_experiment(\"ML Algos with HP Tuning\")"
   ]
  },
  {
   "cell_type": "code",
   "execution_count": 6,
   "metadata": {
    "id": "4uuO21DuNTpB"
   },
   "outputs": [
    {
     "name": "stderr",
     "output_type": "stream",
     "text": [
      "e:\\Projects\\Youtube Comment Analysis\\Youtube commnent Plugin\\myenv\\Lib\\site-packages\\tqdm\\auto.py:21: TqdmWarning: IProgress not found. Please update jupyter and ipywidgets. See https://ipywidgets.readthedocs.io/en/stable/user_install.html\n",
      "  from .autonotebook import tqdm as notebook_tqdm\n"
     ]
    }
   ],
   "source": [
    "import pandas as pd\n",
    "from sklearn.feature_extraction.text import TfidfVectorizer\n",
    "from sklearn.model_selection import train_test_split\n",
    "from sklearn.ensemble import RandomForestClassifier\n",
    "from sklearn.metrics import accuracy_score, classification_report\n",
    "from imblearn.over_sampling import SMOTE\n",
    "import mlflow\n",
    "import mlflow.sklearn\n",
    "import optuna\n"
   ]
  },
  {
   "cell_type": "code",
   "execution_count": 8,
   "metadata": {
    "colab": {
     "base_uri": "https://localhost:8080/"
    },
    "id": "-5y38KliNmzU",
    "outputId": "2be847c9-14a8-4406-8547-c85fc34f650c"
   },
   "outputs": [
    {
     "data": {
      "text/plain": [
       "(36662, 2)"
      ]
     },
     "execution_count": 8,
     "metadata": {},
     "output_type": "execute_result"
    }
   ],
   "source": [
    "df = pd.read_csv('reddit_preprocessing.csv').dropna()\n",
    "df.shape"
   ]
  },
  {
   "cell_type": "code",
   "execution_count": 9,
   "metadata": {
    "colab": {
     "base_uri": "https://localhost:8080/"
    },
    "id": "dZxnJ1FWNtuL",
    "outputId": "abf3cf85-c371-483c-9107-97f75621cb89"
   },
   "outputs": [
    {
     "name": "stderr",
     "output_type": "stream",
     "text": [
      "[I 2024-11-06 06:38:10,513] A new study created in memory with name: no-name-d87946ad-3e40-4a98-a5aa-11ebaf441a28\n",
      "[I 2024-11-06 06:38:14,216] Trial 0 finished with value: 0.6928767702388502 and parameters: {'n_estimators': 85, 'max_depth': 20, 'min_samples_split': 4, 'min_samples_leaf': 12}. Best is trial 0 with value: 0.6928767702388502.\n",
      "[I 2024-11-06 06:38:20,823] Trial 1 finished with value: 0.6681462692876771 and parameters: {'n_estimators': 288, 'max_depth': 9, 'min_samples_split': 8, 'min_samples_leaf': 1}. Best is trial 0 with value: 0.6928767702388502.\n",
      "[I 2024-11-06 06:38:21,727] Trial 2 finished with value: 0.6094905939547665 and parameters: {'n_estimators': 102, 'max_depth': 3, 'min_samples_split': 14, 'min_samples_leaf': 2}. Best is trial 0 with value: 0.6928767702388502.\n",
      "[I 2024-11-06 06:38:25,671] Trial 3 finished with value: 0.6742760515747199 and parameters: {'n_estimators': 147, 'max_depth': 13, 'min_samples_split': 20, 'min_samples_leaf': 15}. Best is trial 0 with value: 0.6928767702388502.\n",
      "[I 2024-11-06 06:38:27,802] Trial 4 finished with value: 0.6339040372014373 and parameters: {'n_estimators': 174, 'max_depth': 4, 'min_samples_split': 9, 'min_samples_leaf': 19}. Best is trial 0 with value: 0.6928767702388502.\n",
      "[I 2024-11-06 06:38:30,555] Trial 5 finished with value: 0.6688860705981822 and parameters: {'n_estimators': 94, 'max_depth': 13, 'min_samples_split': 19, 'min_samples_leaf': 17}. Best is trial 0 with value: 0.6928767702388502.\n",
      "[I 2024-11-06 06:38:39,081] Trial 6 finished with value: 0.6842105263157895 and parameters: {'n_estimators': 231, 'max_depth': 13, 'min_samples_split': 8, 'min_samples_leaf': 4}. Best is trial 0 with value: 0.6928767702388502.\n",
      "[I 2024-11-06 06:38:51,391] Trial 7 finished with value: 0.7025998731769182 and parameters: {'n_estimators': 256, 'max_depth': 20, 'min_samples_split': 16, 'min_samples_leaf': 6}. Best is trial 7 with value: 0.7025998731769182.\n",
      "[I 2024-11-06 06:38:52,819] Trial 8 finished with value: 0.6326358063834284 and parameters: {'n_estimators': 100, 'max_depth': 6, 'min_samples_split': 11, 'min_samples_leaf': 18}. Best is trial 7 with value: 0.7025998731769182.\n",
      "[I 2024-11-06 06:38:56,590] Trial 9 finished with value: 0.6442612555485099 and parameters: {'n_estimators': 251, 'max_depth': 6, 'min_samples_split': 3, 'min_samples_leaf': 12}. Best is trial 7 with value: 0.7025998731769182.\n",
      "[I 2024-11-06 06:39:06,971] Trial 10 finished with value: 0.701860071866413 and parameters: {'n_estimators': 222, 'max_depth': 20, 'min_samples_split': 16, 'min_samples_leaf': 6}. Best is trial 7 with value: 0.7025998731769182.\n",
      "[I 2024-11-06 06:39:17,260] Trial 11 finished with value: 0.7046079053054323 and parameters: {'n_estimators': 224, 'max_depth': 20, 'min_samples_split': 16, 'min_samples_leaf': 7}. Best is trial 11 with value: 0.7046079053054323.\n",
      "[I 2024-11-06 06:39:28,241] Trial 12 finished with value: 0.6956246036778694 and parameters: {'n_estimators': 286, 'max_depth': 17, 'min_samples_split': 15, 'min_samples_leaf': 8}. Best is trial 11 with value: 0.7046079053054323.\n",
      "[I 2024-11-06 06:39:35,968] Trial 13 finished with value: 0.6955189177763687 and parameters: {'n_estimators': 203, 'max_depth': 17, 'min_samples_split': 18, 'min_samples_leaf': 8}. Best is trial 11 with value: 0.7046079053054323.\n",
      "[I 2024-11-06 06:39:45,839] Trial 14 finished with value: 0.6939336292538575 and parameters: {'n_estimators': 256, 'max_depth': 17, 'min_samples_split': 13, 'min_samples_leaf': 9}. Best is trial 11 with value: 0.7046079053054323.\n",
      "[I 2024-11-06 06:39:53,673] Trial 15 finished with value: 0.6975269499048827 and parameters: {'n_estimators': 174, 'max_depth': 18, 'min_samples_split': 17, 'min_samples_leaf': 5}. Best is trial 11 with value: 0.7046079053054323.\n",
      "[I 2024-11-06 06:40:00,206] Trial 16 finished with value: 0.686852673853308 and parameters: {'n_estimators': 204, 'max_depth': 15, 'min_samples_split': 13, 'min_samples_leaf': 11}. Best is trial 11 with value: 0.7046079053054323.\n",
      "[I 2024-11-06 06:40:12,985] Trial 17 finished with value: 0.703868103994927 and parameters: {'n_estimators': 261, 'max_depth': 20, 'min_samples_split': 11, 'min_samples_leaf': 6}. Best is trial 11 with value: 0.7046079053054323.\n",
      "[I 2024-11-06 06:40:16,296] Trial 18 finished with value: 0.6674064679771718 and parameters: {'n_estimators': 137, 'max_depth': 10, 'min_samples_split': 11, 'min_samples_leaf': 3}. Best is trial 11 with value: 0.7046079053054323.\n",
      "[I 2024-11-06 06:40:26,272] Trial 19 finished with value: 0.6934051997463538 and parameters: {'n_estimators': 299, 'max_depth': 18, 'min_samples_split': 10, 'min_samples_leaf': 15}. Best is trial 11 with value: 0.7046079053054323.\n",
      "[I 2024-11-06 06:40:28,224] Trial 20 finished with value: 0.6746987951807228 and parameters: {'n_estimators': 56, 'max_depth': 15, 'min_samples_split': 6, 'min_samples_leaf': 7}. Best is trial 11 with value: 0.7046079053054323.\n",
      "[I 2024-11-06 06:40:40,711] Trial 21 finished with value: 0.704713591206933 and parameters: {'n_estimators': 259, 'max_depth': 20, 'min_samples_split': 16, 'min_samples_leaf': 5}. Best is trial 21 with value: 0.704713591206933.\n",
      "[I 2024-11-06 06:40:53,909] Trial 22 finished with value: 0.7045022194039315 and parameters: {'n_estimators': 270, 'max_depth': 19, 'min_samples_split': 12, 'min_samples_leaf': 4}. Best is trial 21 with value: 0.704713591206933.\n",
      "[I 2024-11-06 06:41:02,310] Trial 23 finished with value: 0.6907630522088354 and parameters: {'n_estimators': 224, 'max_depth': 15, 'min_samples_split': 13, 'min_samples_leaf': 4}. Best is trial 21 with value: 0.704713591206933.\n",
      "[I 2024-11-06 06:41:15,808] Trial 24 finished with value: 0.7068273092369478 and parameters: {'n_estimators': 272, 'max_depth': 18, 'min_samples_split': 18, 'min_samples_leaf': 1}. Best is trial 24 with value: 0.7068273092369478.\n",
      "[I 2024-11-06 06:41:25,266] Trial 25 finished with value: 0.703128302684422 and parameters: {'n_estimators': 196, 'max_depth': 18, 'min_samples_split': 20, 'min_samples_leaf': 1}. Best is trial 24 with value: 0.7068273092369478.\n",
      "[I 2024-11-06 06:41:33,214] Trial 26 finished with value: 0.6938279433523568 and parameters: {'n_estimators': 239, 'max_depth': 16, 'min_samples_split': 18, 'min_samples_leaf': 10}. Best is trial 24 with value: 0.7068273092369478.\n",
      "[I 2024-11-06 06:41:47,076] Trial 27 finished with value: 0.7076727964489538 and parameters: {'n_estimators': 268, 'max_depth': 19, 'min_samples_split': 16, 'min_samples_leaf': 2}. Best is trial 27 with value: 0.7076727964489538.\n",
      "[I 2024-11-06 06:41:54,426] Trial 28 finished with value: 0.6794546607482562 and parameters: {'n_estimators': 277, 'max_depth': 11, 'min_samples_split': 18, 'min_samples_leaf': 2}. Best is trial 27 with value: 0.7076727964489538.\n",
      "[I 2024-11-06 06:42:09,122] Trial 29 finished with value: 0.7048192771084337 and parameters: {'n_estimators': 293, 'max_depth': 19, 'min_samples_split': 15, 'min_samples_leaf': 3}. Best is trial 27 with value: 0.7076727964489538.\n",
      "2024/11/06 06:42:43 WARNING mlflow.models.model: Model logged without a signature and input example. Please set `input_example` parameter when logging the model to auto infer the model signature.\n",
      "2024/11/06 06:42:52 INFO mlflow.tracking._tracking_service.client: 🏃 View run RandomForest_SMOTE_TFIDF_Trigrams at: https://dagshub.com/sahilbhardwaj23/Youtube-comment-Sentiment-Analysis.mlflow/#/experiments/7/runs/2a9c8ccde19c4eb0b080fa141d914088.\n",
      "2024/11/06 06:42:52 INFO mlflow.tracking._tracking_service.client: 🧪 View experiment at: https://dagshub.com/sahilbhardwaj23/Youtube-comment-Sentiment-Analysis.mlflow/#/experiments/7.\n"
     ]
    }
   ],
   "source": [
    "# Step 1: (Optional) Remapping - skipped since not strictly needed for Random Forest\n",
    "\n",
    "# Step 2: Remove rows where the target labels (category) are NaN\n",
    "df = df.dropna(subset=['category'])\n",
    "\n",
    "# Step 3: TF-IDF vectorizer setup\n",
    "ngram_range = (1, 3)  # Trigram\n",
    "max_features = 1000  # Set max_features to 1000\n",
    "vectorizer = TfidfVectorizer(ngram_range=ngram_range, max_features=max_features)\n",
    "X = vectorizer.fit_transform(df['clean_comment'])\n",
    "y = df['category']\n",
    "\n",
    "# Step 4: Apply SMOTE to handle class imbalance\n",
    "smote = SMOTE(random_state=42)\n",
    "X_resampled, y_resampled = smote.fit_resample(X, y)\n",
    "\n",
    "# Step 5: Train-test split\n",
    "X_train, X_test, y_train, y_test = train_test_split(X_resampled, y_resampled, test_size=0.2, random_state=42, stratify=y_resampled)\n",
    "\n",
    "# Function to log results in MLflow\n",
    "def log_mlflow(model_name, model, X_train, X_test, y_train, y_test):\n",
    "    with mlflow.start_run():\n",
    "        # Log model type\n",
    "        mlflow.set_tag(\"mlflow.runName\", f\"{model_name}_SMOTE_TFIDF_Trigrams\")\n",
    "        mlflow.set_tag(\"experiment_type\", \"algorithm_comparison\")\n",
    "\n",
    "        # Log algorithm name as a parameter\n",
    "        mlflow.log_param(\"algo_name\", model_name)\n",
    "\n",
    "        # Train model\n",
    "        model.fit(X_train, y_train)\n",
    "        y_pred = model.predict(X_test)\n",
    "\n",
    "        # Log accuracy\n",
    "        accuracy = accuracy_score(y_test, y_pred)\n",
    "        mlflow.log_metric(\"accuracy\", accuracy)\n",
    "\n",
    "        # Log classification report\n",
    "        classification_rep = classification_report(y_test, y_pred, output_dict=True)\n",
    "        for label, metrics in classification_rep.items():\n",
    "            if isinstance(metrics, dict):\n",
    "                for metric, value in metrics.items():\n",
    "                    mlflow.log_metric(f\"{label}_{metric}\", value)\n",
    "\n",
    "        # Log the model\n",
    "        mlflow.sklearn.log_model(model, f\"{model_name}_model\")\n",
    "\n",
    "\n",
    "# Step 6: Optuna objective function for Random Forest\n",
    "def objective_rf(trial):\n",
    "    n_estimators = trial.suggest_int('n_estimators', 50, 300)  # Number of trees in the forest\n",
    "    max_depth = trial.suggest_int('max_depth', 3, 20)  # Maximum depth of the tree\n",
    "    min_samples_split = trial.suggest_int('min_samples_split', 2, 20)  # Minimum samples required to split a node\n",
    "    min_samples_leaf = trial.suggest_int('min_samples_leaf', 1, 20)  # Minimum samples required at a leaf node\n",
    "\n",
    "    # RandomForestClassifier setup\n",
    "    model = RandomForestClassifier(n_estimators=n_estimators, max_depth=max_depth,\n",
    "                                   min_samples_split=min_samples_split, min_samples_leaf=min_samples_leaf,\n",
    "                                   random_state=42)\n",
    "    return accuracy_score(y_test, model.fit(X_train, y_train).predict(X_test))\n",
    "\n",
    "\n",
    "# Step 7: Run Optuna for Random Forest, log the best model only\n",
    "def run_optuna_experiment():\n",
    "    study = optuna.create_study(direction=\"maximize\")\n",
    "    study.optimize(objective_rf, n_trials=30)\n",
    "\n",
    "    # Get the best parameters and log only the best model\n",
    "    best_params = study.best_params\n",
    "    best_model = RandomForestClassifier(n_estimators=best_params['n_estimators'],\n",
    "                                        max_depth=best_params['max_depth'],\n",
    "                                        min_samples_split=best_params['min_samples_split'],\n",
    "                                        min_samples_leaf=best_params['min_samples_leaf'],\n",
    "                                        random_state=42)\n",
    "\n",
    "    # Log the best model with MLflow, passing the algo_name as \"RandomForest\"\n",
    "    log_mlflow(\"RandomForest\", best_model, X_train, X_test, y_train, y_test)\n",
    "\n",
    "# Run the experiment for Random Forest\n",
    "run_optuna_experiment()\n"
   ]
  }
 ],
 "metadata": {
  "colab": {
   "provenance": []
  },
  "kernelspec": {
   "display_name": "myenv",
   "language": "python",
   "name": "python3"
  },
  "language_info": {
   "codemirror_mode": {
    "name": "ipython",
    "version": 3
   },
   "file_extension": ".py",
   "mimetype": "text/x-python",
   "name": "python",
   "nbconvert_exporter": "python",
   "pygments_lexer": "ipython3",
   "version": "3.11.4"
  }
 },
 "nbformat": 4,
 "nbformat_minor": 0
}
