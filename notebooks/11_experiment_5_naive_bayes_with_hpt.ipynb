{
 "cells": [
  {
   "cell_type": "code",
   "execution_count": null,
   "metadata": {},
   "outputs": [],
   "source": [
    "import dagshub\n",
    "dagshub.init(repo_owner='sahilbhardwaj23', repo_name='Youtube-comment-Sentiment-Analysis', mlflow=True)"
   ]
  },
  {
   "cell_type": "code",
   "execution_count": null,
   "metadata": {},
   "outputs": [],
   "source": [
    "import mlflow\n",
    "# Step 2: Set up the MLflow tracking server\n",
    "mlflow.set_tracking_uri(\"https://dagshub.com/sahilbhardwaj23/Youtube-comment-Sentiment-Analysis.mlflow\")"
   ]
  },
  {
   "cell_type": "code",
   "execution_count": null,
   "metadata": {},
   "outputs": [],
   "source": [
    "from mlflow.tracking import MlflowClient\n",
    "import mlflow"
   ]
  },
  {
   "cell_type": "code",
   "execution_count": null,
   "metadata": {},
   "outputs": [],
   "source": [
    "def set_or_create_experiment(experiment_name):\n",
    "    client = MlflowClient()\n",
    "    experiment = client.get_experiment_by_name(experiment_name)\n",
    "\n",
    "    # Check if the experiment exists and is active\n",
    "    if experiment:\n",
    "        if experiment.lifecycle_stage == \"active\":\n",
    "            print(f\"Using existing experiment '{experiment_name}' (ID: {experiment.experiment_id})\")\n",
    "            mlflow.set_experiment(experiment_name)\n",
    "        else:\n",
    "            # Restore if it's deleted\n",
    "            print(f\"Restoring deleted experiment '{experiment_name}' (ID: {experiment.experiment_id})\")\n",
    "            client.restore_experiment(experiment.experiment_id)\n",
    "            mlflow.set_experiment(experiment_name)\n",
    "    else:\n",
    "        # Create a new experiment if it doesn't exist\n",
    "        print(f\"Creating new experiment '{experiment_name}'\")\n",
    "        mlflow.set_experiment(experiment_name)\n",
    "\n"
   ]
  },
  {
   "cell_type": "code",
   "execution_count": null,
   "metadata": {
    "colab": {
     "base_uri": "https://localhost:8080/"
    },
    "id": "hTA0BVtYL1h8",
    "outputId": "3c064ce9-1686-4fe7-f4c5-c3ff76d1d828"
   },
   "outputs": [
    {
     "data": {
      "text/plain": [
       "<Experiment: artifact_location='s3://campusx-mlflow/608990915555109586', creation_time=1728589727081, experiment_id='608990915555109586', last_update_time=1728589727081, lifecycle_stage='active', name='ML Algos with HP Tuning', tags={}>"
      ]
     },
     "execution_count": 4,
     "metadata": {},
     "output_type": "execute_result"
    }
   ],
   "source": [
    "# Set or create an experiment\n",
    "set_or_create_experiment(\"ML Algos with HP Tuning\")"
   ]
  },
  {
   "cell_type": "code",
   "execution_count": null,
   "metadata": {
    "id": "yePqZe37L3yf"
   },
   "outputs": [],
   "source": [
    "import pandas as pd\n",
    "from sklearn.feature_extraction.text import TfidfVectorizer\n",
    "from sklearn.model_selection import train_test_split\n",
    "from sklearn.naive_bayes import MultinomialNB\n",
    "from sklearn.metrics import accuracy_score, classification_report\n",
    "from imblearn.over_sampling import SMOTE\n",
    "import mlflow\n",
    "import mlflow.sklearn\n",
    "import optuna\n"
   ]
  },
  {
   "cell_type": "code",
   "execution_count": null,
   "metadata": {
    "colab": {
     "base_uri": "https://localhost:8080/"
    },
    "id": "Vf3mf2bjMGjf",
    "outputId": "ab993e9e-7f58-45a6-e4ad-9bb13d28230a"
   },
   "outputs": [
    {
     "data": {
      "text/plain": [
       "(36662, 2)"
      ]
     },
     "execution_count": 6,
     "metadata": {},
     "output_type": "execute_result"
    }
   ],
   "source": [
    "df = pd.read_csv('reddit_preprocessing.csv').dropna()\n",
    "df.shape"
   ]
  },
  {
   "cell_type": "code",
   "execution_count": null,
   "metadata": {
    "colab": {
     "base_uri": "https://localhost:8080/"
    },
    "id": "xhwie-MyMNNw",
    "outputId": "df8d178f-9922-4657-e844-d99b2dfa2c81"
   },
   "outputs": [
    {
     "name": "stderr",
     "output_type": "stream",
     "text": [
      "[I 2024-10-11 06:08:30,687] A new study created in memory with name: no-name-9da59cb1-1dcb-42a2-baa0-edcf7788ad87\n",
      "[I 2024-10-11 06:08:30,706] Trial 0 finished with value: 0.6682519551891778 and parameters: {'alpha': 0.026880491877817547}. Best is trial 0 with value: 0.6682519551891778.\n",
      "[I 2024-10-11 06:08:30,723] Trial 1 finished with value: 0.6650813781441556 and parameters: {'alpha': 0.7921742309070803}. Best is trial 0 with value: 0.6682519551891778.\n",
      "[I 2024-10-11 06:08:30,740] Trial 2 finished with value: 0.6682519551891778 and parameters: {'alpha': 0.007265133055507888}. Best is trial 0 with value: 0.6682519551891778.\n",
      "[I 2024-10-11 06:08:30,760] Trial 3 finished with value: 0.6682519551891778 and parameters: {'alpha': 0.05148571972421229}. Best is trial 0 with value: 0.6682519551891778.\n",
      "[I 2024-10-11 06:08:30,778] Trial 4 finished with value: 0.6682519551891778 and parameters: {'alpha': 0.010280941966723727}. Best is trial 0 with value: 0.6682519551891778.\n",
      "[I 2024-10-11 06:08:30,797] Trial 5 finished with value: 0.6682519551891778 and parameters: {'alpha': 0.014315881024800999}. Best is trial 0 with value: 0.6682519551891778.\n",
      "[I 2024-10-11 06:08:30,814] Trial 6 finished with value: 0.6683576410906785 and parameters: {'alpha': 0.004732713692377521}. Best is trial 6 with value: 0.6683576410906785.\n",
      "[I 2024-10-11 06:08:30,831] Trial 7 finished with value: 0.6682519551891778 and parameters: {'alpha': 0.025875441009830333}. Best is trial 6 with value: 0.6683576410906785.\n",
      "[I 2024-10-11 06:08:30,849] Trial 8 finished with value: 0.6679348974846755 and parameters: {'alpha': 0.09503602268328432}. Best is trial 6 with value: 0.6683576410906785.\n",
      "[I 2024-10-11 06:08:30,867] Trial 9 finished with value: 0.66856901289368 and parameters: {'alpha': 0.0012437894012138496}. Best is trial 9 with value: 0.66856901289368.\n",
      "[I 2024-10-11 06:08:30,890] Trial 10 finished with value: 0.66856901289368 and parameters: {'alpha': 0.00024485788585056057}. Best is trial 9 with value: 0.66856901289368.\n",
      "[I 2024-10-11 06:08:30,912] Trial 11 finished with value: 0.66856901289368 and parameters: {'alpha': 0.00023509827715637507}. Best is trial 9 with value: 0.66856901289368.\n",
      "[I 2024-10-11 06:08:30,934] Trial 12 finished with value: 0.66856901289368 and parameters: {'alpha': 0.0003097302950271607}. Best is trial 9 with value: 0.66856901289368.\n",
      "[I 2024-10-11 06:08:30,957] Trial 13 finished with value: 0.66856901289368 and parameters: {'alpha': 0.001092895219091066}. Best is trial 9 with value: 0.66856901289368.\n",
      "[I 2024-10-11 06:08:30,979] Trial 14 finished with value: 0.66856901289368 and parameters: {'alpha': 0.0011795404673174848}. Best is trial 9 with value: 0.66856901289368.\n",
      "[I 2024-10-11 06:08:31,002] Trial 15 finished with value: 0.66856901289368 and parameters: {'alpha': 0.00010352732980722355}. Best is trial 9 with value: 0.66856901289368.\n",
      "[I 2024-10-11 06:08:31,024] Trial 16 finished with value: 0.66856901289368 and parameters: {'alpha': 0.0015017605301694843}. Best is trial 9 with value: 0.66856901289368.\n",
      "[I 2024-10-11 06:08:31,047] Trial 17 finished with value: 0.66856901289368 and parameters: {'alpha': 0.00045780230280127905}. Best is trial 9 with value: 0.66856901289368.\n",
      "[I 2024-10-11 06:08:31,070] Trial 18 finished with value: 0.66856901289368 and parameters: {'alpha': 0.002694173285786239}. Best is trial 9 with value: 0.66856901289368.\n",
      "[I 2024-10-11 06:08:31,095] Trial 19 finished with value: 0.66856901289368 and parameters: {'alpha': 0.00011721279811300525}. Best is trial 9 with value: 0.66856901289368.\n",
      "[I 2024-10-11 06:08:31,120] Trial 20 finished with value: 0.66856901289368 and parameters: {'alpha': 0.0005664206824192499}. Best is trial 9 with value: 0.66856901289368.\n",
      "[I 2024-10-11 06:08:31,143] Trial 21 finished with value: 0.66856901289368 and parameters: {'alpha': 0.0002593759619488601}. Best is trial 9 with value: 0.66856901289368.\n",
      "[I 2024-10-11 06:08:31,167] Trial 22 finished with value: 0.66856901289368 and parameters: {'alpha': 0.00025248834237358964}. Best is trial 9 with value: 0.66856901289368.\n",
      "[I 2024-10-11 06:08:31,191] Trial 23 finished with value: 0.66856901289368 and parameters: {'alpha': 0.0007217411955418449}. Best is trial 9 with value: 0.66856901289368.\n",
      "[I 2024-10-11 06:08:31,214] Trial 24 finished with value: 0.66856901289368 and parameters: {'alpha': 0.0022006437030061363}. Best is trial 9 with value: 0.66856901289368.\n",
      "[I 2024-10-11 06:08:31,238] Trial 25 finished with value: 0.66856901289368 and parameters: {'alpha': 0.0001536221792068121}. Best is trial 9 with value: 0.66856901289368.\n",
      "[I 2024-10-11 06:08:31,261] Trial 26 finished with value: 0.66856901289368 and parameters: {'alpha': 0.0006738610557088104}. Best is trial 9 with value: 0.66856901289368.\n",
      "[I 2024-10-11 06:08:31,285] Trial 27 finished with value: 0.66856901289368 and parameters: {'alpha': 0.003181139936195071}. Best is trial 9 with value: 0.66856901289368.\n",
      "[I 2024-10-11 06:08:31,308] Trial 28 finished with value: 0.66856901289368 and parameters: {'alpha': 0.00021550491617351278}. Best is trial 9 with value: 0.66856901289368.\n",
      "[I 2024-10-11 06:08:31,332] Trial 29 finished with value: 0.66856901289368 and parameters: {'alpha': 0.000497258133745866}. Best is trial 9 with value: 0.66856901289368.\n",
      "2024/10/11 06:08:39 WARNING mlflow.models.model: Model logged without a signature and input example. Please set `input_example` parameter when logging the model to auto infer the model signature.\n",
      "2024/10/11 06:08:40 INFO mlflow.tracking._tracking_service.client: 🏃 View run MultinomialNB_SMOTE_TFIDF_Trigrams at: http://ec2-54-196-109-131.compute-1.amazonaws.com:5000/#/experiments/608990915555109586/runs/8f7369b6c98e4dc5ab8ae5fc0db893f4.\n",
      "2024/10/11 06:08:40 INFO mlflow.tracking._tracking_service.client: 🧪 View experiment at: http://ec2-54-196-109-131.compute-1.amazonaws.com:5000/#/experiments/608990915555109586.\n"
     ]
    }
   ],
   "source": [
    "# Step 1: (Optional) Remapping - skipped since not strictly needed for Multinomial Naive Bayes\n",
    "\n",
    "# Step 2: Remove rows where the target labels (category) are NaN\n",
    "df = df.dropna(subset=['category'])\n",
    "\n",
    "# Step 3: TF-IDF vectorizer setup\n",
    "ngram_range = (1, 3)  # Trigram\n",
    "max_features = 1000  # Set max_features to 1000\n",
    "vectorizer = TfidfVectorizer(ngram_range=ngram_range, max_features=max_features)\n",
    "X = vectorizer.fit_transform(df['clean_comment'])\n",
    "y = df['category']\n",
    "\n",
    "# Step 4: Apply SMOTE to handle class imbalance\n",
    "smote = SMOTE(random_state=42)\n",
    "X_resampled, y_resampled = smote.fit_resample(X, y)\n",
    "\n",
    "# Step 5: Train-test split\n",
    "X_train, X_test, y_train, y_test = train_test_split(X_resampled, y_resampled, test_size=0.2, random_state=42, stratify=y_resampled)\n",
    "\n",
    "# Function to log results in MLflow\n",
    "def log_mlflow(model_name, model, X_train, X_test, y_train, y_test):\n",
    "    with mlflow.start_run():\n",
    "        # Log model type\n",
    "        mlflow.set_tag(\"mlflow.runName\", f\"{model_name}_SMOTE_TFIDF_Trigrams\")\n",
    "        mlflow.set_tag(\"experiment_type\", \"algorithm_comparison\")\n",
    "\n",
    "        # Log algorithm name as a parameter\n",
    "        mlflow.log_param(\"algo_name\", model_name)\n",
    "\n",
    "        # Train model\n",
    "        model.fit(X_train, y_train)\n",
    "        y_pred = model.predict(X_test)\n",
    "\n",
    "        # Log accuracy\n",
    "        accuracy = accuracy_score(y_test, y_pred)\n",
    "        mlflow.log_metric(\"accuracy\", accuracy)\n",
    "\n",
    "        # Log classification report\n",
    "        classification_rep = classification_report(y_test, y_pred, output_dict=True)\n",
    "        for label, metrics in classification_rep.items():\n",
    "            if isinstance(metrics, dict):\n",
    "                for metric, value in metrics.items():\n",
    "                    mlflow.log_metric(f\"{label}_{metric}\", value)\n",
    "\n",
    "        # Log the model\n",
    "        mlflow.sklearn.log_model(model, f\"{model_name}_model\")\n",
    "\n",
    "\n",
    "# Step 6: Optuna objective function for Multinomial Naive Bayes\n",
    "def objective_mnb(trial):\n",
    "    alpha = trial.suggest_float('alpha', 1e-4, 1.0, log=True)  # Tuning the smoothing parameter\n",
    "\n",
    "    # MultinomialNB model setup\n",
    "    model = MultinomialNB(alpha=alpha)\n",
    "    return accuracy_score(y_test, model.fit(X_train, y_train).predict(X_test))\n",
    "\n",
    "\n",
    "# Step 7: Run Optuna for Multinomial Naive Bayes, log the best model only\n",
    "def run_optuna_experiment():\n",
    "    study = optuna.create_study(direction=\"maximize\")\n",
    "    study.optimize(objective_mnb, n_trials=30)\n",
    "\n",
    "    # Get the best parameters and log only the best model\n",
    "    best_params = study.best_params\n",
    "    best_model = MultinomialNB(alpha=best_params['alpha'])\n",
    "\n",
    "    # Log the best model with MLflow, passing the algo_name as \"MultinomialNB\"\n",
    "    log_mlflow(\"MultinomialNB\", best_model, X_train, X_test, y_train, y_test)\n",
    "\n",
    "# Run the experiment for Multinomial Naive Bayes\n",
    "run_optuna_experiment()\n"
   ]
  },
  {
   "cell_type": "code",
   "execution_count": null,
   "metadata": {
    "id": "9_X8KbpdMQaS"
   },
   "outputs": [],
   "source": []
  }
 ],
 "metadata": {
  "colab": {
   "provenance": []
  },
  "kernelspec": {
   "display_name": "Python 3",
   "name": "python3"
  },
  "language_info": {
   "name": "python"
  }
 },
 "nbformat": 4,
 "nbformat_minor": 0
}
