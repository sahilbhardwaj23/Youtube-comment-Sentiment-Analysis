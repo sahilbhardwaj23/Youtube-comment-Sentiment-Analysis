{
 "cells": [
  {
   "cell_type": "code",
   "execution_count": 1,
   "metadata": {},
   "outputs": [
    {
     "data": {
      "text/html": [
       "<pre style=\"white-space:pre;overflow-x:auto;line-height:normal;font-family:Menlo,'DejaVu Sans Mono',consolas,'Courier New',monospace\">Accessing as sahilbhardwaj23\n",
       "</pre>\n"
      ],
      "text/plain": [
       "Accessing as sahilbhardwaj23\n"
      ]
     },
     "metadata": {},
     "output_type": "display_data"
    },
    {
     "data": {
      "text/html": [
       "<pre style=\"white-space:pre;overflow-x:auto;line-height:normal;font-family:Menlo,'DejaVu Sans Mono',consolas,'Courier New',monospace\">Initialized MLflow to track repo <span style=\"color: #008000; text-decoration-color: #008000\">\"sahilbhardwaj23/Youtube-comment-Sentiment-Analysis\"</span>\n",
       "</pre>\n"
      ],
      "text/plain": [
       "Initialized MLflow to track repo \u001b[32m\"sahilbhardwaj23/Youtube-comment-Sentiment-Analysis\"\u001b[0m\n"
      ]
     },
     "metadata": {},
     "output_type": "display_data"
    },
    {
     "data": {
      "text/html": [
       "<pre style=\"white-space:pre;overflow-x:auto;line-height:normal;font-family:Menlo,'DejaVu Sans Mono',consolas,'Courier New',monospace\">Repository sahilbhardwaj23/Youtube-comment-Sentiment-Analysis initialized!\n",
       "</pre>\n"
      ],
      "text/plain": [
       "Repository sahilbhardwaj23/Youtube-comment-Sentiment-Analysis initialized!\n"
      ]
     },
     "metadata": {},
     "output_type": "display_data"
    }
   ],
   "source": [
    "import dagshub\n",
    "dagshub.init(repo_owner='sahilbhardwaj23', repo_name='Youtube-comment-Sentiment-Analysis', mlflow=True)"
   ]
  },
  {
   "cell_type": "code",
   "execution_count": 2,
   "metadata": {},
   "outputs": [],
   "source": [
    "import mlflow\n",
    "# Step 2: Set up the MLflow tracking server\n",
    "mlflow.set_tracking_uri(\"https://dagshub.com/sahilbhardwaj23/Youtube-comment-Sentiment-Analysis.mlflow\")"
   ]
  },
  {
   "cell_type": "code",
   "execution_count": 3,
   "metadata": {},
   "outputs": [],
   "source": [
    "from mlflow.tracking import MlflowClient\n",
    "import mlflow"
   ]
  },
  {
   "cell_type": "code",
   "execution_count": 4,
   "metadata": {},
   "outputs": [],
   "source": [
    "def set_or_create_experiment(experiment_name):\n",
    "    client = MlflowClient()\n",
    "    experiment = client.get_experiment_by_name(experiment_name)\n",
    "\n",
    "    # Check if the experiment exists and is active\n",
    "    if experiment:\n",
    "        if experiment.lifecycle_stage == \"active\":\n",
    "            print(f\"Using existing experiment '{experiment_name}' (ID: {experiment.experiment_id})\")\n",
    "            mlflow.set_experiment(experiment_name)\n",
    "        else:\n",
    "            # Restore if it's deleted\n",
    "            print(f\"Restoring deleted experiment '{experiment_name}' (ID: {experiment.experiment_id})\")\n",
    "            client.restore_experiment(experiment.experiment_id)\n",
    "            mlflow.set_experiment(experiment_name)\n",
    "    else:\n",
    "        # Create a new experiment if it doesn't exist\n",
    "        print(f\"Creating new experiment '{experiment_name}'\")\n",
    "        mlflow.set_experiment(experiment_name)\n",
    "\n"
   ]
  },
  {
   "cell_type": "code",
   "execution_count": 5,
   "metadata": {
    "colab": {
     "base_uri": "https://localhost:8080/"
    },
    "id": "hTA0BVtYL1h8",
    "outputId": "3c064ce9-1686-4fe7-f4c5-c3ff76d1d828"
   },
   "outputs": [
    {
     "name": "stdout",
     "output_type": "stream",
     "text": [
      "Using existing experiment 'ML Algos with HP Tuning' (ID: 7)\n"
     ]
    }
   ],
   "source": [
    "# Set or create an experiment\n",
    "set_or_create_experiment(\"ML Algos with HP Tuning\")"
   ]
  },
  {
   "cell_type": "code",
   "execution_count": 6,
   "metadata": {
    "id": "yePqZe37L3yf"
   },
   "outputs": [
    {
     "name": "stderr",
     "output_type": "stream",
     "text": [
      "e:\\Projects\\Youtube Comment Analysis\\Youtube commnent Plugin\\myenv\\Lib\\site-packages\\tqdm\\auto.py:21: TqdmWarning: IProgress not found. Please update jupyter and ipywidgets. See https://ipywidgets.readthedocs.io/en/stable/user_install.html\n",
      "  from .autonotebook import tqdm as notebook_tqdm\n"
     ]
    }
   ],
   "source": [
    "import pandas as pd\n",
    "from sklearn.feature_extraction.text import TfidfVectorizer\n",
    "from sklearn.model_selection import train_test_split\n",
    "from sklearn.naive_bayes import MultinomialNB\n",
    "from sklearn.metrics import accuracy_score, classification_report\n",
    "from imblearn.over_sampling import SMOTE\n",
    "import mlflow\n",
    "import mlflow.sklearn\n",
    "import optuna\n"
   ]
  },
  {
   "cell_type": "code",
   "execution_count": 7,
   "metadata": {
    "colab": {
     "base_uri": "https://localhost:8080/"
    },
    "id": "Vf3mf2bjMGjf",
    "outputId": "ab993e9e-7f58-45a6-e4ad-9bb13d28230a"
   },
   "outputs": [
    {
     "data": {
      "text/plain": [
       "(36662, 2)"
      ]
     },
     "execution_count": 7,
     "metadata": {},
     "output_type": "execute_result"
    }
   ],
   "source": [
    "df = pd.read_csv('reddit_preprocessing.csv').dropna()\n",
    "df.shape"
   ]
  },
  {
   "cell_type": "code",
   "execution_count": 8,
   "metadata": {
    "colab": {
     "base_uri": "https://localhost:8080/"
    },
    "id": "xhwie-MyMNNw",
    "outputId": "df8d178f-9922-4657-e844-d99b2dfa2c81"
   },
   "outputs": [
    {
     "name": "stderr",
     "output_type": "stream",
     "text": [
      "[I 2024-11-03 10:46:56,724] A new study created in memory with name: no-name-24677527-e57d-4e62-9dc5-1718092fd68b\n",
      "[I 2024-11-03 10:46:56,807] Trial 0 finished with value: 0.6683576410906785 and parameters: {'alpha': 0.001903480362078772}. Best is trial 0 with value: 0.6683576410906785.\n",
      "[I 2024-11-03 10:46:56,827] Trial 1 finished with value: 0.6682519551891778 and parameters: {'alpha': 0.012216614342648114}. Best is trial 0 with value: 0.6683576410906785.\n",
      "[I 2024-11-03 10:46:56,843] Trial 2 finished with value: 0.6682519551891778 and parameters: {'alpha': 0.0001409579715242982}. Best is trial 0 with value: 0.6683576410906785.\n",
      "[I 2024-11-03 10:46:56,858] Trial 3 finished with value: 0.6682519551891778 and parameters: {'alpha': 0.01585420298305097}. Best is trial 0 with value: 0.6683576410906785.\n",
      "[I 2024-11-03 10:46:56,874] Trial 4 finished with value: 0.6681462692876771 and parameters: {'alpha': 0.03821499245242152}. Best is trial 0 with value: 0.6683576410906785.\n",
      "[I 2024-11-03 10:46:56,890] Trial 5 finished with value: 0.6684633269921793 and parameters: {'alpha': 0.002681093171493549}. Best is trial 5 with value: 0.6684633269921793.\n",
      "[I 2024-11-03 10:46:56,906] Trial 6 finished with value: 0.6682519551891778 and parameters: {'alpha': 0.0008659021269253611}. Best is trial 5 with value: 0.6684633269921793.\n",
      "[I 2024-11-03 10:46:56,920] Trial 7 finished with value: 0.6663496089621644 and parameters: {'alpha': 0.25684043308875226}. Best is trial 5 with value: 0.6684633269921793.\n",
      "[I 2024-11-03 10:46:56,937] Trial 8 finished with value: 0.6682519551891778 and parameters: {'alpha': 0.0005755277088003029}. Best is trial 5 with value: 0.6684633269921793.\n",
      "[I 2024-11-03 10:46:56,951] Trial 9 finished with value: 0.6683576410906785 and parameters: {'alpha': 0.003490528420927961}. Best is trial 5 with value: 0.6684633269921793.\n",
      "[I 2024-11-03 10:46:57,006] Trial 10 finished with value: 0.6651870640456563 and parameters: {'alpha': 0.8886997605498379}. Best is trial 5 with value: 0.6684633269921793.\n",
      "[I 2024-11-03 10:46:57,034] Trial 11 finished with value: 0.6683576410906785 and parameters: {'alpha': 0.0016967253495136952}. Best is trial 5 with value: 0.6684633269921793.\n",
      "[I 2024-11-03 10:46:57,062] Trial 12 finished with value: 0.6682519551891778 and parameters: {'alpha': 0.0002104159137301045}. Best is trial 5 with value: 0.6684633269921793.\n",
      "[I 2024-11-03 10:46:57,088] Trial 13 finished with value: 0.6683576410906785 and parameters: {'alpha': 0.005048730864892143}. Best is trial 5 with value: 0.6684633269921793.\n",
      "[I 2024-11-03 10:46:57,117] Trial 14 finished with value: 0.6681462692876771 and parameters: {'alpha': 0.03706414637390605}. Best is trial 5 with value: 0.6684633269921793.\n",
      "[I 2024-11-03 10:46:57,142] Trial 15 finished with value: 0.6682519551891778 and parameters: {'alpha': 0.0004180789075985077}. Best is trial 5 with value: 0.6684633269921793.\n",
      "[I 2024-11-03 10:46:57,172] Trial 16 finished with value: 0.6684633269921793 and parameters: {'alpha': 0.0020896810652230096}. Best is trial 5 with value: 0.6684633269921793.\n",
      "[I 2024-11-03 10:46:57,203] Trial 17 finished with value: 0.6679348974846755 and parameters: {'alpha': 0.052430207080914254}. Best is trial 5 with value: 0.6684633269921793.\n",
      "[I 2024-11-03 10:46:57,232] Trial 18 finished with value: 0.6683576410906785 and parameters: {'alpha': 0.007556587968017595}. Best is trial 5 with value: 0.6684633269921793.\n",
      "[I 2024-11-03 10:46:57,255] Trial 19 finished with value: 0.6683576410906785 and parameters: {'alpha': 0.00116161293644469}. Best is trial 5 with value: 0.6684633269921793.\n",
      "[I 2024-11-03 10:46:57,276] Trial 20 finished with value: 0.6684633269921793 and parameters: {'alpha': 0.0028209736597326262}. Best is trial 5 with value: 0.6684633269921793.\n",
      "[I 2024-11-03 10:46:57,296] Trial 21 finished with value: 0.6684633269921793 and parameters: {'alpha': 0.0028835048029018065}. Best is trial 5 with value: 0.6684633269921793.\n",
      "[I 2024-11-03 10:46:57,318] Trial 22 finished with value: 0.6682519551891778 and parameters: {'alpha': 0.0004972120773932277}. Best is trial 5 with value: 0.6684633269921793.\n",
      "[I 2024-11-03 10:46:57,343] Trial 23 finished with value: 0.6682519551891778 and parameters: {'alpha': 0.01842248023457111}. Best is trial 5 with value: 0.6684633269921793.\n",
      "[I 2024-11-03 10:46:57,364] Trial 24 finished with value: 0.6683576410906785 and parameters: {'alpha': 0.004785560364317668}. Best is trial 5 with value: 0.6684633269921793.\n",
      "[I 2024-11-03 10:46:57,387] Trial 25 finished with value: 0.6683576410906785 and parameters: {'alpha': 0.001812627467784987}. Best is trial 5 with value: 0.6684633269921793.\n",
      "[I 2024-11-03 10:46:57,410] Trial 26 finished with value: 0.6682519551891778 and parameters: {'alpha': 0.00841740773459204}. Best is trial 5 with value: 0.6684633269921793.\n",
      "[I 2024-11-03 10:46:57,432] Trial 27 finished with value: 0.6682519551891778 and parameters: {'alpha': 0.0003009545332255584}. Best is trial 5 with value: 0.6684633269921793.\n",
      "[I 2024-11-03 10:46:57,454] Trial 28 finished with value: 0.6682519551891778 and parameters: {'alpha': 0.0008206724736809341}. Best is trial 5 with value: 0.6684633269921793.\n",
      "[I 2024-11-03 10:46:57,475] Trial 29 finished with value: 0.6684633269921793 and parameters: {'alpha': 0.0020911061393354214}. Best is trial 5 with value: 0.6684633269921793.\n",
      "2024/11/03 10:47:19 WARNING mlflow.models.model: Model logged without a signature and input example. Please set `input_example` parameter when logging the model to auto infer the model signature.\n",
      "2024/11/03 10:47:24 INFO mlflow.tracking._tracking_service.client: 🏃 View run MultinomialNB_SMOTE_TFIDF_Trigrams at: https://dagshub.com/sahilbhardwaj23/Youtube-comment-Sentiment-Analysis.mlflow/#/experiments/7/runs/809cc3d173c747ffa36afb15cb3b6ee8.\n",
      "2024/11/03 10:47:24 INFO mlflow.tracking._tracking_service.client: 🧪 View experiment at: https://dagshub.com/sahilbhardwaj23/Youtube-comment-Sentiment-Analysis.mlflow/#/experiments/7.\n"
     ]
    }
   ],
   "source": [
    "# Step 1: (Optional) Remapping - skipped since not strictly needed for Multinomial Naive Bayes\n",
    "\n",
    "# Step 2: Remove rows where the target labels (category) are NaN\n",
    "df = df.dropna(subset=['category'])\n",
    "\n",
    "# Step 3: TF-IDF vectorizer setup\n",
    "ngram_range = (1, 3)  # Trigram\n",
    "max_features = 1000  # Set max_features to 1000\n",
    "vectorizer = TfidfVectorizer(ngram_range=ngram_range, max_features=max_features)\n",
    "X = vectorizer.fit_transform(df['clean_comment'])\n",
    "y = df['category']\n",
    "\n",
    "# Step 4: Apply SMOTE to handle class imbalance\n",
    "smote = SMOTE(random_state=42)\n",
    "X_resampled, y_resampled = smote.fit_resample(X, y)\n",
    "\n",
    "# Step 5: Train-test split\n",
    "X_train, X_test, y_train, y_test = train_test_split(X_resampled, y_resampled, test_size=0.2, random_state=42, stratify=y_resampled)\n",
    "\n",
    "# Function to log results in MLflow\n",
    "def log_mlflow(model_name, model, X_train, X_test, y_train, y_test):\n",
    "    with mlflow.start_run():\n",
    "        # Log model type\n",
    "        mlflow.set_tag(\"mlflow.runName\", f\"{model_name}_SMOTE_TFIDF_Trigrams\")\n",
    "        mlflow.set_tag(\"experiment_type\", \"algorithm_comparison\")\n",
    "\n",
    "        # Log algorithm name as a parameter\n",
    "        mlflow.log_param(\"algo_name\", model_name)\n",
    "\n",
    "        # Train model\n",
    "        model.fit(X_train, y_train)\n",
    "        y_pred = model.predict(X_test)\n",
    "\n",
    "        # Log accuracy\n",
    "        accuracy = accuracy_score(y_test, y_pred)\n",
    "        mlflow.log_metric(\"accuracy\", accuracy)\n",
    "\n",
    "        # Log classification report\n",
    "        classification_rep = classification_report(y_test, y_pred, output_dict=True)\n",
    "        for label, metrics in classification_rep.items():\n",
    "            if isinstance(metrics, dict):\n",
    "                for metric, value in metrics.items():\n",
    "                    mlflow.log_metric(f\"{label}_{metric}\", value)\n",
    "\n",
    "        # Log the model\n",
    "        mlflow.sklearn.log_model(model, f\"{model_name}_model\")\n",
    "\n",
    "\n",
    "# Step 6: Optuna objective function for Multinomial Naive Bayes\n",
    "def objective_mnb(trial):\n",
    "    alpha = trial.suggest_float('alpha', 1e-4, 1.0, log=True)  # Tuning the smoothing parameter\n",
    "\n",
    "    # MultinomialNB model setup\n",
    "    model = MultinomialNB(alpha=alpha)\n",
    "    return accuracy_score(y_test, model.fit(X_train, y_train).predict(X_test))\n",
    "\n",
    "\n",
    "# Step 7: Run Optuna for Multinomial Naive Bayes, log the best model only\n",
    "def run_optuna_experiment():\n",
    "    study = optuna.create_study(direction=\"maximize\")\n",
    "    study.optimize(objective_mnb, n_trials=30)\n",
    "\n",
    "    # Get the best parameters and log only the best model\n",
    "    best_params = study.best_params\n",
    "    best_model = MultinomialNB(alpha=best_params['alpha'])\n",
    "\n",
    "    # Log the best model with MLflow, passing the algo_name as \"MultinomialNB\"\n",
    "    log_mlflow(\"MultinomialNB\", best_model, X_train, X_test, y_train, y_test)\n",
    "\n",
    "# Run the experiment for Multinomial Naive Bayes\n",
    "run_optuna_experiment()\n"
   ]
  }
 ],
 "metadata": {
  "colab": {
   "provenance": []
  },
  "kernelspec": {
   "display_name": "myenv",
   "language": "python",
   "name": "python3"
  },
  "language_info": {
   "codemirror_mode": {
    "name": "ipython",
    "version": 3
   },
   "file_extension": ".py",
   "mimetype": "text/x-python",
   "name": "python",
   "nbconvert_exporter": "python",
   "pygments_lexer": "ipython3",
   "version": "3.11.4"
  }
 },
 "nbformat": 4,
 "nbformat_minor": 0
}
