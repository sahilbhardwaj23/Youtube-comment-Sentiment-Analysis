{
 "cells": [
  {
   "cell_type": "code",
   "execution_count": 1,
   "metadata": {},
   "outputs": [
    {
     "data": {
      "text/html": [
       "<pre style=\"white-space:pre;overflow-x:auto;line-height:normal;font-family:Menlo,'DejaVu Sans Mono',consolas,'Courier New',monospace\">Accessing as sahilbhardwaj23\n",
       "</pre>\n"
      ],
      "text/plain": [
       "Accessing as sahilbhardwaj23\n"
      ]
     },
     "metadata": {},
     "output_type": "display_data"
    },
    {
     "data": {
      "text/html": [
       "<pre style=\"white-space:pre;overflow-x:auto;line-height:normal;font-family:Menlo,'DejaVu Sans Mono',consolas,'Courier New',monospace\">Initialized MLflow to track repo <span style=\"color: #008000; text-decoration-color: #008000\">\"sahilbhardwaj23/Youtube-comment-Sentiment-Analysis\"</span>\n",
       "</pre>\n"
      ],
      "text/plain": [
       "Initialized MLflow to track repo \u001b[32m\"sahilbhardwaj23/Youtube-comment-Sentiment-Analysis\"\u001b[0m\n"
      ]
     },
     "metadata": {},
     "output_type": "display_data"
    },
    {
     "data": {
      "text/html": [
       "<pre style=\"white-space:pre;overflow-x:auto;line-height:normal;font-family:Menlo,'DejaVu Sans Mono',consolas,'Courier New',monospace\">Repository sahilbhardwaj23/Youtube-comment-Sentiment-Analysis initialized!\n",
       "</pre>\n"
      ],
      "text/plain": [
       "Repository sahilbhardwaj23/Youtube-comment-Sentiment-Analysis initialized!\n"
      ]
     },
     "metadata": {},
     "output_type": "display_data"
    }
   ],
   "source": [
    "import dagshub\n",
    "dagshub.init(repo_owner='sahilbhardwaj23', repo_name='Youtube-comment-Sentiment-Analysis', mlflow=True)"
   ]
  },
  {
   "cell_type": "code",
   "execution_count": 2,
   "metadata": {},
   "outputs": [],
   "source": [
    "import mlflow\n",
    "# Step 2: Set up the MLflow tracking server\n",
    "mlflow.set_tracking_uri(\"https://dagshub.com/sahilbhardwaj23/Youtube-comment-Sentiment-Analysis.mlflow\")"
   ]
  },
  {
   "cell_type": "code",
   "execution_count": 3,
   "metadata": {},
   "outputs": [],
   "source": [
    "from mlflow.tracking import MlflowClient\n",
    "import mlflow"
   ]
  },
  {
   "cell_type": "code",
   "execution_count": 4,
   "metadata": {},
   "outputs": [],
   "source": [
    "def set_or_create_experiment(experiment_name):\n",
    "    client = MlflowClient()\n",
    "    experiment = client.get_experiment_by_name(experiment_name)\n",
    "\n",
    "    # Check if the experiment exists and is active\n",
    "    if experiment:\n",
    "        if experiment.lifecycle_stage == \"active\":\n",
    "            print(f\"Using existing experiment '{experiment_name}' (ID: {experiment.experiment_id})\")\n",
    "            mlflow.set_experiment(experiment_name)\n",
    "        else:\n",
    "            # Restore if it's deleted\n",
    "            print(f\"Restoring deleted experiment '{experiment_name}' (ID: {experiment.experiment_id})\")\n",
    "            client.restore_experiment(experiment.experiment_id)\n",
    "            mlflow.set_experiment(experiment_name)\n",
    "    else:\n",
    "        # Create a new experiment if it doesn't exist\n",
    "        print(f\"Creating new experiment '{experiment_name}'\")\n",
    "        mlflow.set_experiment(experiment_name)\n",
    "\n"
   ]
  },
  {
   "cell_type": "code",
   "execution_count": 5,
   "metadata": {
    "colab": {
     "base_uri": "https://localhost:8080/"
    },
    "id": "Ugx9_tDfIiLo",
    "outputId": "71e7b70d-7650-4212-c962-b6376e24f277"
   },
   "outputs": [
    {
     "name": "stdout",
     "output_type": "stream",
     "text": [
      "Using existing experiment 'ML Algos with HP Tuning' (ID: 7)\n"
     ]
    }
   ],
   "source": [
    "# Set or create an experiment\n",
    "set_or_create_experiment(\"ML Algos with HP Tuning\")"
   ]
  },
  {
   "cell_type": "code",
   "execution_count": 6,
   "metadata": {
    "id": "F9_HfxWfIkAj"
   },
   "outputs": [
    {
     "name": "stderr",
     "output_type": "stream",
     "text": [
      "e:\\Projects\\Youtube Comment Analysis\\Youtube commnent Plugin\\myenv\\Lib\\site-packages\\tqdm\\auto.py:21: TqdmWarning: IProgress not found. Please update jupyter and ipywidgets. See https://ipywidgets.readthedocs.io/en/stable/user_install.html\n",
      "  from .autonotebook import tqdm as notebook_tqdm\n"
     ]
    }
   ],
   "source": [
    "import pandas as pd\n",
    "from sklearn.feature_extraction.text import TfidfVectorizer\n",
    "from sklearn.model_selection import train_test_split\n",
    "from sklearn.neighbors import KNeighborsClassifier\n",
    "from sklearn.metrics import accuracy_score, classification_report\n",
    "from imblearn.over_sampling import SMOTE\n",
    "import mlflow\n",
    "import mlflow.sklearn\n",
    "import optuna\n"
   ]
  },
  {
   "cell_type": "code",
   "execution_count": 8,
   "metadata": {
    "colab": {
     "base_uri": "https://localhost:8080/"
    },
    "id": "im6XaJ6UI1cR",
    "outputId": "bb32e67d-d93e-49cb-f90e-4f7a2237c26d"
   },
   "outputs": [
    {
     "data": {
      "text/plain": [
       "(36662, 2)"
      ]
     },
     "execution_count": 8,
     "metadata": {},
     "output_type": "execute_result"
    }
   ],
   "source": [
    "df = pd.read_csv('reddit_preprocessing.csv').dropna()\n",
    "df.shape"
   ]
  },
  {
   "cell_type": "code",
   "execution_count": 9,
   "metadata": {
    "colab": {
     "base_uri": "https://localhost:8080/"
    },
    "id": "zCvg5CqbI6o4",
    "outputId": "f33c073a-f1c5-4c17-ffc0-632fe0abfd72"
   },
   "outputs": [
    {
     "name": "stderr",
     "output_type": "stream",
     "text": [
      "[I 2024-11-03 10:37:21,270] A new study created in memory with name: no-name-eecbdf8c-dd7d-4576-98a0-178ed6db384d\n",
      "[I 2024-11-03 10:37:31,755] Trial 0 finished with value: 0.5775734517015431 and parameters: {'n_neighbors': 5, 'p': 2}. Best is trial 0 with value: 0.5775734517015431.\n",
      "[I 2024-11-03 10:37:42,265] Trial 1 finished with value: 0.5258930458676813 and parameters: {'n_neighbors': 28, 'p': 2}. Best is trial 0 with value: 0.5775734517015431.\n",
      "[I 2024-11-03 10:37:50,275] Trial 2 finished with value: 0.3843796237581907 and parameters: {'n_neighbors': 15, 'p': 1}. Best is trial 0 with value: 0.5775734517015431.\n",
      "[I 2024-11-03 10:38:00,838] Trial 3 finished with value: 0.5242020714436694 and parameters: {'n_neighbors': 29, 'p': 2}. Best is trial 0 with value: 0.5775734517015431.\n",
      "[I 2024-11-03 10:38:11,213] Trial 4 finished with value: 0.536990065525259 and parameters: {'n_neighbors': 23, 'p': 2}. Best is trial 0 with value: 0.5775734517015431.\n",
      "[I 2024-11-03 10:38:18,502] Trial 5 finished with value: 0.3874445149017121 and parameters: {'n_neighbors': 12, 'p': 1}. Best is trial 0 with value: 0.5775734517015431.\n",
      "[I 2024-11-03 10:38:29,105] Trial 6 finished with value: 0.5403720143732826 and parameters: {'n_neighbors': 21, 'p': 2}. Best is trial 0 with value: 0.5775734517015431.\n",
      "[I 2024-11-03 10:38:36,619] Trial 7 finished with value: 0.37264848869160855 and parameters: {'n_neighbors': 30, 'p': 1}. Best is trial 0 with value: 0.5775734517015431.\n",
      "[I 2024-11-03 10:38:47,087] Trial 8 finished with value: 0.5909955611921369 and parameters: {'n_neighbors': 3, 'p': 2}. Best is trial 8 with value: 0.5909955611921369.\n",
      "[I 2024-11-03 10:38:54,301] Trial 9 finished with value: 0.3760304375396322 and parameters: {'n_neighbors': 27, 'p': 1}. Best is trial 8 with value: 0.5909955611921369.\n",
      "[I 2024-11-03 10:39:04,836] Trial 10 finished with value: 0.5909955611921369 and parameters: {'n_neighbors': 3, 'p': 2}. Best is trial 8 with value: 0.5909955611921369.\n",
      "[I 2024-11-03 10:39:15,327] Trial 11 finished with value: 0.5909955611921369 and parameters: {'n_neighbors': 3, 'p': 2}. Best is trial 8 with value: 0.5909955611921369.\n",
      "[I 2024-11-03 10:39:25,713] Trial 12 finished with value: 0.5740858169520185 and parameters: {'n_neighbors': 8, 'p': 2}. Best is trial 8 with value: 0.5909955611921369.\n",
      "[I 2024-11-03 10:39:36,556] Trial 13 finished with value: 0.5723948425280068 and parameters: {'n_neighbors': 9, 'p': 2}. Best is trial 8 with value: 0.5909955611921369.\n",
      "[I 2024-11-03 10:39:46,913] Trial 14 finished with value: 0.5753540477700275 and parameters: {'n_neighbors': 7, 'p': 2}. Best is trial 8 with value: 0.5909955611921369.\n",
      "[I 2024-11-03 10:39:57,281] Trial 15 finished with value: 0.5909955611921369 and parameters: {'n_neighbors': 3, 'p': 2}. Best is trial 8 with value: 0.5909955611921369.\n",
      "[I 2024-11-03 10:40:07,946] Trial 16 finished with value: 0.5619319382794336 and parameters: {'n_neighbors': 12, 'p': 2}. Best is trial 8 with value: 0.5909955611921369.\n",
      "[I 2024-11-03 10:40:18,558] Trial 17 finished with value: 0.54713591206933 and parameters: {'n_neighbors': 18, 'p': 2}. Best is trial 8 with value: 0.5909955611921369.\n",
      "[I 2024-11-03 10:40:25,854] Trial 18 finished with value: 0.3894525470302262 and parameters: {'n_neighbors': 11, 'p': 1}. Best is trial 8 with value: 0.5909955611921369.\n",
      "[I 2024-11-03 10:40:36,169] Trial 19 finished with value: 0.5775734517015431 and parameters: {'n_neighbors': 5, 'p': 2}. Best is trial 8 with value: 0.5909955611921369.\n",
      "[I 2024-11-03 10:40:46,577] Trial 20 finished with value: 0.5738744451490171 and parameters: {'n_neighbors': 6, 'p': 2}. Best is trial 8 with value: 0.5909955611921369.\n",
      "[I 2024-11-03 10:40:57,166] Trial 21 finished with value: 0.5814838300570704 and parameters: {'n_neighbors': 4, 'p': 2}. Best is trial 8 with value: 0.5909955611921369.\n",
      "[I 2024-11-03 10:41:07,884] Trial 22 finished with value: 0.5909955611921369 and parameters: {'n_neighbors': 3, 'p': 2}. Best is trial 8 with value: 0.5909955611921369.\n",
      "[I 2024-11-03 10:41:18,316] Trial 23 finished with value: 0.5723948425280068 and parameters: {'n_neighbors': 9, 'p': 2}. Best is trial 8 with value: 0.5909955611921369.\n",
      "[I 2024-11-03 10:41:28,608] Trial 24 finished with value: 0.5909955611921369 and parameters: {'n_neighbors': 3, 'p': 2}. Best is trial 8 with value: 0.5909955611921369.\n",
      "[I 2024-11-03 10:41:38,899] Trial 25 finished with value: 0.557281758613401 and parameters: {'n_neighbors': 15, 'p': 2}. Best is trial 8 with value: 0.5909955611921369.\n",
      "[I 2024-11-03 10:41:46,160] Trial 26 finished with value: 0.3948425280067639 and parameters: {'n_neighbors': 7, 'p': 1}. Best is trial 8 with value: 0.5909955611921369.\n",
      "[I 2024-11-03 10:41:56,283] Trial 27 finished with value: 0.5680617205664764 and parameters: {'n_neighbors': 10, 'p': 2}. Best is trial 8 with value: 0.5909955611921369.\n",
      "[I 2024-11-03 10:42:06,844] Trial 28 finished with value: 0.5738744451490171 and parameters: {'n_neighbors': 6, 'p': 2}. Best is trial 8 with value: 0.5909955611921369.\n",
      "[I 2024-11-03 10:42:17,477] Trial 29 finished with value: 0.5775734517015431 and parameters: {'n_neighbors': 5, 'p': 2}. Best is trial 8 with value: 0.5909955611921369.\n",
      "2024/11/03 10:42:49 WARNING mlflow.models.model: Model logged without a signature and input example. Please set `input_example` parameter when logging the model to auto infer the model signature.\n",
      "2024/11/03 10:42:55 INFO mlflow.tracking._tracking_service.client: 🏃 View run KNN_SMOTE_TFIDF_Trigrams at: https://dagshub.com/sahilbhardwaj23/Youtube-comment-Sentiment-Analysis.mlflow/#/experiments/7/runs/444bebd99ea147dea48ac70370a157be.\n",
      "2024/11/03 10:42:55 INFO mlflow.tracking._tracking_service.client: 🧪 View experiment at: https://dagshub.com/sahilbhardwaj23/Youtube-comment-Sentiment-Analysis.mlflow/#/experiments/7.\n"
     ]
    }
   ],
   "source": [
    "# Step 1: (Optional) Remapping - skipped since not strictly needed for KNN\n",
    "\n",
    "# Step 2: Remove rows where the target labels (category) are NaN\n",
    "df = df.dropna(subset=['category'])\n",
    "\n",
    "# Step 3: TF-IDF vectorizer setup\n",
    "ngram_range = (1, 3)  # Trigram\n",
    "max_features = 1000  # Set max_features to 1000\n",
    "vectorizer = TfidfVectorizer(ngram_range=ngram_range, max_features=max_features)\n",
    "X = vectorizer.fit_transform(df['clean_comment'])\n",
    "y = df['category']\n",
    "\n",
    "# Step 4: Apply SMOTE to handle class imbalance\n",
    "smote = SMOTE(random_state=42)\n",
    "X_resampled, y_resampled = smote.fit_resample(X, y)\n",
    "\n",
    "# Step 5: Train-test split\n",
    "X_train, X_test, y_train, y_test = train_test_split(X_resampled, y_resampled, test_size=0.2, random_state=42, stratify=y_resampled)\n",
    "\n",
    "# Function to log results in MLflow\n",
    "def log_mlflow(model_name, model, X_train, X_test, y_train, y_test):\n",
    "    with mlflow.start_run():\n",
    "        # Log model type\n",
    "        mlflow.set_tag(\"mlflow.runName\", f\"{model_name}_SMOTE_TFIDF_Trigrams\")\n",
    "        mlflow.set_tag(\"experiment_type\", \"algorithm_comparison\")\n",
    "\n",
    "        # Log algorithm name as a parameter\n",
    "        mlflow.log_param(\"algo_name\", model_name)\n",
    "\n",
    "        # Train model\n",
    "        model.fit(X_train, y_train)\n",
    "        y_pred = model.predict(X_test)\n",
    "\n",
    "        # Log accuracy\n",
    "        accuracy = accuracy_score(y_test, y_pred)\n",
    "        mlflow.log_metric(\"accuracy\", accuracy)\n",
    "\n",
    "        # Log classification report\n",
    "        classification_rep = classification_report(y_test, y_pred, output_dict=True)\n",
    "        for label, metrics in classification_rep.items():\n",
    "            if isinstance(metrics, dict):\n",
    "                for metric, value in metrics.items():\n",
    "                    mlflow.log_metric(f\"{label}_{metric}\", value)\n",
    "\n",
    "        # Log the model\n",
    "        mlflow.sklearn.log_model(model, f\"{model_name}_model\")\n",
    "\n",
    "\n",
    "# Step 6: Optuna objective function for KNN\n",
    "def objective_knn(trial):\n",
    "    n_neighbors = trial.suggest_int('n_neighbors', 3, 30)  # Tuning the number of neighbors\n",
    "    p = trial.suggest_categorical('p', [1, 2])  # Tuning the distance metric (1 for Manhattan, 2 for Euclidean)\n",
    "\n",
    "    # KNeighborsClassifier setup\n",
    "    model = KNeighborsClassifier(n_neighbors=n_neighbors, p=p)\n",
    "    return accuracy_score(y_test, model.fit(X_train, y_train).predict(X_test))\n",
    "\n",
    "\n",
    "# Step 7: Run Optuna for KNN, log the best model only\n",
    "def run_optuna_experiment():\n",
    "    study = optuna.create_study(direction=\"maximize\")\n",
    "    study.optimize(objective_knn, n_trials=30)\n",
    "\n",
    "    # Get the best parameters and log only the best model\n",
    "    best_params = study.best_params\n",
    "    best_model = KNeighborsClassifier(n_neighbors=best_params['n_neighbors'], p=best_params['p'])\n",
    "\n",
    "    # Log the best model with MLflow, passing the algo_name as \"KNN\"\n",
    "    log_mlflow(\"KNN\", best_model, X_train, X_test, y_train, y_test)\n",
    "\n",
    "# Run the experiment for KNN\n",
    "run_optuna_experiment()\n"
   ]
  }
 ],
 "metadata": {
  "colab": {
   "provenance": []
  },
  "kernelspec": {
   "display_name": "myenv",
   "language": "python",
   "name": "python3"
  },
  "language_info": {
   "codemirror_mode": {
    "name": "ipython",
    "version": 3
   },
   "file_extension": ".py",
   "mimetype": "text/x-python",
   "name": "python",
   "nbconvert_exporter": "python",
   "pygments_lexer": "ipython3",
   "version": "3.11.4"
  }
 },
 "nbformat": 4,
 "nbformat_minor": 0
}
