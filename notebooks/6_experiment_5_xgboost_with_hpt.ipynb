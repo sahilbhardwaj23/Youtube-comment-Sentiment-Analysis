{
 "cells": [
  {
   "cell_type": "code",
   "execution_count": 1,
   "metadata": {},
   "outputs": [
    {
     "data": {
      "text/html": [
       "<pre style=\"white-space:pre;overflow-x:auto;line-height:normal;font-family:Menlo,'DejaVu Sans Mono',consolas,'Courier New',monospace\">Accessing as sahilbhardwaj23\n",
       "</pre>\n"
      ],
      "text/plain": [
       "Accessing as sahilbhardwaj23\n"
      ]
     },
     "metadata": {},
     "output_type": "display_data"
    },
    {
     "data": {
      "text/html": [
       "<pre style=\"white-space:pre;overflow-x:auto;line-height:normal;font-family:Menlo,'DejaVu Sans Mono',consolas,'Courier New',monospace\">Initialized MLflow to track repo <span style=\"color: #008000; text-decoration-color: #008000\">\"sahilbhardwaj23/Youtube-comment-Sentiment-Analysis\"</span>\n",
       "</pre>\n"
      ],
      "text/plain": [
       "Initialized MLflow to track repo \u001b[32m\"sahilbhardwaj23/Youtube-comment-Sentiment-Analysis\"\u001b[0m\n"
      ]
     },
     "metadata": {},
     "output_type": "display_data"
    },
    {
     "data": {
      "text/html": [
       "<pre style=\"white-space:pre;overflow-x:auto;line-height:normal;font-family:Menlo,'DejaVu Sans Mono',consolas,'Courier New',monospace\">Repository sahilbhardwaj23/Youtube-comment-Sentiment-Analysis initialized!\n",
       "</pre>\n"
      ],
      "text/plain": [
       "Repository sahilbhardwaj23/Youtube-comment-Sentiment-Analysis initialized!\n"
      ]
     },
     "metadata": {},
     "output_type": "display_data"
    }
   ],
   "source": [
    "import dagshub\n",
    "dagshub.init(repo_owner='sahilbhardwaj23', repo_name='Youtube-comment-Sentiment-Analysis', mlflow=True)"
   ]
  },
  {
   "cell_type": "code",
   "execution_count": 2,
   "metadata": {
    "id": "vch7jvzg-O9C"
   },
   "outputs": [],
   "source": [
    "import mlflow\n",
    "# Step 2: Set up the MLflow tracking server\n",
    "mlflow.set_tracking_uri(\"https://dagshub.com/sahilbhardwaj23/Youtube-comment-Sentiment-Analysis.mlflow\")"
   ]
  },
  {
   "cell_type": "code",
   "execution_count": 3,
   "metadata": {},
   "outputs": [],
   "source": [
    "from mlflow.tracking import MlflowClient\n",
    "import mlflow"
   ]
  },
  {
   "cell_type": "code",
   "execution_count": 4,
   "metadata": {},
   "outputs": [],
   "source": [
    "def set_or_create_experiment(experiment_name):\n",
    "    client = MlflowClient()\n",
    "    experiment = client.get_experiment_by_name(experiment_name)\n",
    "\n",
    "    # Check if the experiment exists and is active\n",
    "    if experiment:\n",
    "        if experiment.lifecycle_stage == \"active\":\n",
    "            print(f\"Using existing experiment '{experiment_name}' (ID: {experiment.experiment_id})\")\n",
    "            mlflow.set_experiment(experiment_name)\n",
    "        else:\n",
    "            # Restore if it's deleted\n",
    "            print(f\"Restoring deleted experiment '{experiment_name}' (ID: {experiment.experiment_id})\")\n",
    "            client.restore_experiment(experiment.experiment_id)\n",
    "            mlflow.set_experiment(experiment_name)\n",
    "    else:\n",
    "        # Create a new experiment if it doesn't exist\n",
    "        print(f\"Creating new experiment '{experiment_name}'\")\n",
    "        mlflow.set_experiment(experiment_name)\n",
    "\n"
   ]
  },
  {
   "cell_type": "code",
   "execution_count": 5,
   "metadata": {
    "colab": {
     "base_uri": "https://localhost:8080/"
    },
    "id": "4aPGvuI7-Yu_",
    "outputId": "3dce621e-5886-4278-f010-b60ce2a8c98a"
   },
   "outputs": [
    {
     "name": "stdout",
     "output_type": "stream",
     "text": [
      "Creating new experiment 'Exp 5 - ML Algos with HP Tuning'\n"
     ]
    },
    {
     "name": "stderr",
     "output_type": "stream",
     "text": [
      "2024/11/02 20:44:56 INFO mlflow.tracking.fluent: Experiment with name 'Exp 5 - ML Algos with HP Tuning' does not exist. Creating a new experiment.\n"
     ]
    }
   ],
   "source": [
    "# Set or create an experiment\n",
    "set_or_create_experiment(\"Exp 5 - ML Algos with HP Tuning\")"
   ]
  },
  {
   "cell_type": "code",
   "execution_count": 6,
   "metadata": {
    "colab": {
     "base_uri": "https://localhost:8080/"
    },
    "id": "CNoYRU5W-gdD",
    "outputId": "c3dca95b-f9f6-439d-d3b6-e5abb0f34fbe"
   },
   "outputs": [
    {
     "name": "stderr",
     "output_type": "stream",
     "text": [
      "e:\\Projects\\Youtube Comment Analysis\\Youtube commnent Plugin\\myenv\\Lib\\site-packages\\tqdm\\auto.py:21: TqdmWarning: IProgress not found. Please update jupyter and ipywidgets. See https://ipywidgets.readthedocs.io/en/stable/user_install.html\n",
      "  from .autonotebook import tqdm as notebook_tqdm\n"
     ]
    }
   ],
   "source": [
    "import optuna\n",
    "import mlflow\n",
    "import mlflow.sklearn\n",
    "from sklearn.model_selection import train_test_split\n",
    "from sklearn.metrics import accuracy_score, classification_report\n",
    "from sklearn.feature_extraction.text import TfidfVectorizer\n",
    "from sklearn.linear_model import LogisticRegression\n",
    "from sklearn.svm import SVC\n",
    "from xgboost import XGBClassifier\n",
    "from lightgbm import LGBMClassifier\n",
    "from sklearn.neighbors import KNeighborsClassifier\n",
    "from sklearn.naive_bayes import MultinomialNB\n",
    "from sklearn.ensemble import RandomForestClassifier\n",
    "from imblearn.over_sampling import SMOTE\n",
    "import matplotlib.pyplot as plt\n",
    "import seaborn as sns\n",
    "import pandas as pd"
   ]
  },
  {
   "cell_type": "code",
   "execution_count": 7,
   "metadata": {
    "colab": {
     "base_uri": "https://localhost:8080/"
    },
    "id": "BhAQ53ko-los",
    "outputId": "fa282c73-bb95-4d60-97f4-aa41001a3933"
   },
   "outputs": [
    {
     "data": {
      "text/plain": [
       "(36662, 2)"
      ]
     },
     "execution_count": 7,
     "metadata": {},
     "output_type": "execute_result"
    }
   ],
   "source": [
    "df = pd.read_csv('reddit_preprocessing.csv').dropna()\n",
    "df.shape"
   ]
  },
  {
   "cell_type": "code",
   "execution_count": 8,
   "metadata": {
    "colab": {
     "base_uri": "https://localhost:8080/",
     "height": 897
    },
    "id": "9c1OkYCN-uUw",
    "outputId": "d19bf22e-f4fb-4dff-80a9-49e9629268a1"
   },
   "outputs": [
    {
     "name": "stderr",
     "output_type": "stream",
     "text": [
      "[I 2024-11-02 20:54:00,187] A new study created in memory with name: no-name-ebc9bfac-ea8f-4217-937d-2152936afebe\n",
      "[I 2024-11-02 20:55:49,128] Trial 0 finished with value: 0.5450702304650211 and parameters: {'n_estimators': 176, 'learning_rate': 0.000124538416078991, 'max_depth': 5}. Best is trial 0 with value: 0.5450702304650211.\n",
      "[I 2024-11-02 21:00:23,266] Trial 1 finished with value: 0.6258011727805809 and parameters: {'n_estimators': 188, 'learning_rate': 0.0030909237126214716, 'max_depth': 8}. Best is trial 1 with value: 0.6258011727805809.\n",
      "[I 2024-11-02 21:09:16,471] Trial 2 finished with value: 0.6904404745670257 and parameters: {'n_estimators': 244, 'learning_rate': 0.010142984938741446, 'max_depth': 10}. Best is trial 2 with value: 0.6904404745670257.\n",
      "[I 2024-11-02 21:10:43,976] Trial 3 finished with value: 0.5589799536342561 and parameters: {'n_estimators': 215, 'learning_rate': 0.0016081715309307246, 'max_depth': 4}. Best is trial 2 with value: 0.6904404745670257.\n",
      "[I 2024-11-02 21:17:00,940] Trial 4 finished with value: 0.7406245738442656 and parameters: {'n_estimators': 214, 'learning_rate': 0.029013122619173607, 'max_depth': 10}. Best is trial 4 with value: 0.7406245738442656.\n",
      "[I 2024-11-02 21:21:06,418] Trial 5 finished with value: 0.6133915177962634 and parameters: {'n_estimators': 112, 'learning_rate': 0.00012229695254238387, 'max_depth': 10}. Best is trial 4 with value: 0.7406245738442656.\n",
      "[I 2024-11-02 21:26:18,123] Trial 6 finished with value: 0.7380335469794082 and parameters: {'n_estimators': 210, 'learning_rate': 0.03094248231121078, 'max_depth': 9}. Best is trial 4 with value: 0.7406245738442656.\n",
      "[I 2024-11-02 21:27:36,557] Trial 7 finished with value: 0.5225692076912587 and parameters: {'n_estimators': 295, 'learning_rate': 0.0003293331513463697, 'max_depth': 3}. Best is trial 4 with value: 0.7406245738442656.\n",
      "[I 2024-11-02 21:30:01,630] Trial 8 finished with value: 0.5671621437338061 and parameters: {'n_estimators': 241, 'learning_rate': 0.001350219302621909, 'max_depth': 5}. Best is trial 4 with value: 0.7406245738442656.\n",
      "[I 2024-11-02 21:34:04,078] Trial 9 finished with value: 0.611891449611346 and parameters: {'n_estimators': 110, 'learning_rate': 0.0002398203784227661, 'max_depth': 10}. Best is trial 4 with value: 0.7406245738442656.\n",
      "[I 2024-11-02 21:35:34,889] Trial 10 finished with value: 0.6819855447974909 and parameters: {'n_estimators': 80, 'learning_rate': 0.04095528124678286, 'max_depth': 7}. Best is trial 4 with value: 0.7406245738442656.\n",
      "[I 2024-11-02 21:40:07,729] Trial 11 finished with value: 0.8017182599209055 and parameters: {'n_estimators': 285, 'learning_rate': 0.07756235905702535, 'max_depth': 8}. Best is trial 11 with value: 0.8017182599209055.\n",
      "[I 2024-11-02 21:44:35,906] Trial 12 finished with value: 0.804582026455748 and parameters: {'n_estimators': 288, 'learning_rate': 0.08344794410856192, 'max_depth': 8}. Best is trial 12 with value: 0.804582026455748.\n",
      "[I 2024-11-02 21:48:14,891] Trial 13 finished with value: 0.8041729169507705 and parameters: {'n_estimators': 285, 'learning_rate': 0.09462360993770991, 'max_depth': 7}. Best is trial 12 with value: 0.804582026455748.\n",
      "[I 2024-11-02 21:51:59,164] Trial 14 finished with value: 0.6635756170735033 and parameters: {'n_estimators': 259, 'learning_rate': 0.010362783080572598, 'max_depth': 6}. Best is trial 12 with value: 0.804582026455748.\n",
      "[I 2024-11-02 21:55:23,864] Trial 15 finished with value: 0.801036410745943 and parameters: {'n_estimators': 267, 'learning_rate': 0.09322066528992104, 'max_depth': 7}. Best is trial 12 with value: 0.804582026455748.\n",
      "[I 2024-11-02 21:58:36,655] Trial 16 finished with value: 0.6574389744988408 and parameters: {'n_estimators': 137, 'learning_rate': 0.011665766379340326, 'max_depth': 8}. Best is trial 12 with value: 0.804582026455748.\n",
      "[I 2024-11-02 22:01:38,703] Trial 17 finished with value: 0.6993045138415382 and parameters: {'n_estimators': 300, 'learning_rate': 0.016890611875701546, 'max_depth': 6}. Best is trial 12 with value: 0.804582026455748.\n",
      "[I 2024-11-02 22:02:47,907] Trial 18 finished with value: 0.6131187781262785 and parameters: {'n_estimators': 50, 'learning_rate': 0.004734740062315396, 'max_depth': 9}. Best is trial 12 with value: 0.804582026455748.\n",
      "[I 2024-11-02 22:04:27,086] Trial 19 finished with value: 0.7456702577389881 and parameters: {'n_estimators': 151, 'learning_rate': 0.06300111930423404, 'max_depth': 7}. Best is trial 12 with value: 0.804582026455748.\n",
      "[I 2024-11-02 22:09:32,112] Trial 20 finished with value: 0.7306695758898132 and parameters: {'n_estimators': 265, 'learning_rate': 0.021187967866509057, 'max_depth': 9}. Best is trial 12 with value: 0.804582026455748.\n",
      "[I 2024-11-02 22:12:37,213] Trial 21 finished with value: 0.8104459293604255 and parameters: {'n_estimators': 284, 'learning_rate': 0.09497275437395389, 'max_depth': 8}. Best is trial 21 with value: 0.8104459293604255.\n",
      "[I 2024-11-02 22:16:18,753] Trial 22 finished with value: 0.7692622391926905 and parameters: {'n_estimators': 275, 'learning_rate': 0.0477085505234409, 'max_depth': 8}. Best is trial 21 with value: 0.8104459293604255.\n",
      "[I 2024-11-02 22:18:10,742] Trial 23 finished with value: 0.7880812764216555 and parameters: {'n_estimators': 239, 'learning_rate': 0.0995127690385298, 'max_depth': 6}. Best is trial 21 with value: 0.8104459293604255.\n",
      "[I 2024-11-02 22:21:13,943] Trial 24 finished with value: 0.7688531296877131 and parameters: {'n_estimators': 282, 'learning_rate': 0.05143952224111481, 'max_depth': 7}. Best is trial 21 with value: 0.8104459293604255.\n",
      "[I 2024-11-02 22:26:20,170] Trial 25 finished with value: 0.7295786172098732 and parameters: {'n_estimators': 248, 'learning_rate': 0.022422946092927405, 'max_depth': 9}. Best is trial 21 with value: 0.8104459293604255.\n",
      "[I 2024-11-02 22:32:08,809] Trial 26 finished with value: 0.6618028092186008 and parameters: {'n_estimators': 297, 'learning_rate': 0.006001621779595071, 'max_depth': 8}. Best is trial 21 with value: 0.8104459293604255.\n",
      "[I 2024-11-02 22:33:44,257] Trial 27 finished with value: 0.7357152597845357 and parameters: {'n_estimators': 234, 'learning_rate': 0.049089211372963876, 'max_depth': 5}. Best is trial 21 with value: 0.8104459293604255.\n",
      "[I 2024-11-02 22:36:35,064] Trial 28 finished with value: 0.5850265921178235 and parameters: {'n_estimators': 196, 'learning_rate': 0.0008268983714807073, 'max_depth': 7}. Best is trial 21 with value: 0.8104459293604255.\n",
      "[I 2024-11-02 22:37:53,721] Trial 29 finished with value: 0.764489294967953 and parameters: {'n_estimators': 164, 'learning_rate': 0.09329668645076859, 'max_depth': 6}. Best is trial 21 with value: 0.8104459293604255.\n",
      "2024/11/02 22:41:23 WARNING mlflow.models.model: Model logged without a signature and input example. Please set `input_example` parameter when logging the model to auto infer the model signature.\n",
      "2024/11/02 22:41:29 INFO mlflow.tracking._tracking_service.client: 🏃 View run XGBoost_SMOTE_TFIDF_Trigrams at: https://dagshub.com/sahilbhardwaj23/Youtube-comment-Sentiment-Analysis.mlflow/#/experiments/6/runs/4c8dc5b99ea94eff8abc450c2328023d.\n",
      "2024/11/02 22:41:29 INFO mlflow.tracking._tracking_service.client: 🧪 View experiment at: https://dagshub.com/sahilbhardwaj23/Youtube-comment-Sentiment-Analysis.mlflow/#/experiments/6.\n"
     ]
    }
   ],
   "source": [
    "# Step 1: Remap the class labels from [-1, 0, 1] to [2, 0, 1]\n",
    "df['category'] = df['category'].map({-1: 2, 0: 0, 1: 1})\n",
    "\n",
    "# Step 2: Remove rows where the target labels (category) are NaN\n",
    "df = df.dropna(subset=['category'])\n",
    "\n",
    "ngram_range = (1, 3)  # Trigram setting\n",
    "max_features = 10000  # Set max_features to 1000 for TF-IDF\n",
    "\n",
    "# Step 4: Train-test split before vectorization and resampling\n",
    "X_train, X_test, y_train, y_test = train_test_split(df['clean_comment'], df['category'], test_size=0.2, random_state=42, stratify=df['category'])\n",
    "\n",
    "# Step 2: Vectorization using TF-IDF, fit on training data only\n",
    "vectorizer = TfidfVectorizer(ngram_range=ngram_range, max_features=max_features)\n",
    "X_train_vec = vectorizer.fit_transform(X_train)  # Fit on training data\n",
    "X_test_vec = vectorizer.transform(X_test)  # Transform test data\n",
    "\n",
    "smote = SMOTE(random_state=42)\n",
    "X_train_vec, y_train = smote.fit_resample(X_train_vec, y_train)\n",
    "\n",
    "# Function to log results in MLflow\n",
    "def log_mlflow(model_name, model, X_train, X_test, y_train, y_test):\n",
    "    with mlflow.start_run():\n",
    "        # Log model type\n",
    "        mlflow.set_tag(\"mlflow.runName\", f\"{model_name}_SMOTE_TFIDF_Trigrams\")\n",
    "        mlflow.set_tag(\"experiment_type\", \"algorithm_comparison\")\n",
    "\n",
    "        # Log algorithm name as a parameter\n",
    "        mlflow.log_param(\"algo_name\", model_name)\n",
    "\n",
    "        # Train model\n",
    "        model.fit(X_train, y_train)\n",
    "        y_pred = model.predict(X_test)\n",
    "\n",
    "        # Log accuracy\n",
    "        accuracy = accuracy_score(y_test, y_pred)\n",
    "        mlflow.log_metric(\"accuracy\", accuracy)\n",
    "\n",
    "        # Log classification report\n",
    "        classification_rep = classification_report(y_test, y_pred, output_dict=True)\n",
    "        for label, metrics in classification_rep.items():\n",
    "            if isinstance(metrics, dict):\n",
    "                for metric, value in metrics.items():\n",
    "                    mlflow.log_metric(f\"{label}_{metric}\", value)\n",
    "\n",
    "        # Log the model\n",
    "        mlflow.sklearn.log_model(model, f\"{model_name}_model\")\n",
    "\n",
    "\n",
    "# Step 6: Optuna objective function for XGBoost\n",
    "def objective_xgboost(trial):\n",
    "    n_estimators = trial.suggest_int('n_estimators', 50, 300)\n",
    "    learning_rate = trial.suggest_float('learning_rate', 1e-4, 1e-1, log=True)\n",
    "    max_depth = trial.suggest_int('max_depth', 3, 10)\n",
    "\n",
    "    model = XGBClassifier(n_estimators=n_estimators, learning_rate=learning_rate, max_depth=max_depth, random_state=42)\n",
    "    return accuracy_score(y_test, model.fit(X_train_vec, y_train).predict(X_test_vec))\n",
    "\n",
    "\n",
    "# Step 7: Run Optuna for XGBoost, log the best model only\n",
    "def run_optuna_experiment():\n",
    "    study = optuna.create_study(direction=\"maximize\")\n",
    "    study.optimize(objective_xgboost, n_trials=30)\n",
    "\n",
    "    # Get the best parameters and log only the best model\n",
    "    best_params = study.best_params\n",
    "    best_model = XGBClassifier(n_estimators=best_params['n_estimators'], learning_rate=best_params['learning_rate'], max_depth=best_params['max_depth'], random_state=42)\n",
    "\n",
    "    # Log the best model with MLflow, passing the algo_name as \"xgboost\"\n",
    "    log_mlflow(\"XGBoost\", best_model, X_train_vec, X_test_vec, y_train, y_test)\n",
    "\n",
    "# Run the experiment for XGBoost\n",
    "run_optuna_experiment()\n"
   ]
  }
 ],
 "metadata": {
  "colab": {
   "provenance": []
  },
  "kernelspec": {
   "display_name": "myenv",
   "language": "python",
   "name": "python3"
  },
  "language_info": {
   "codemirror_mode": {
    "name": "ipython",
    "version": 3
   },
   "file_extension": ".py",
   "mimetype": "text/x-python",
   "name": "python",
   "nbconvert_exporter": "python",
   "pygments_lexer": "ipython3",
   "version": "3.11.4"
  }
 },
 "nbformat": 4,
 "nbformat_minor": 0
}
