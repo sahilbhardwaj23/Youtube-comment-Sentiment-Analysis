{
 "cells": [
  {
   "cell_type": "code",
   "execution_count": 1,
   "metadata": {},
   "outputs": [
    {
     "data": {
      "text/html": [
       "<pre style=\"white-space:pre;overflow-x:auto;line-height:normal;font-family:Menlo,'DejaVu Sans Mono',consolas,'Courier New',monospace\">Accessing as sahilbhardwaj23\n",
       "</pre>\n"
      ],
      "text/plain": [
       "Accessing as sahilbhardwaj23\n"
      ]
     },
     "metadata": {},
     "output_type": "display_data"
    },
    {
     "data": {
      "text/html": [
       "<pre style=\"white-space:pre;overflow-x:auto;line-height:normal;font-family:Menlo,'DejaVu Sans Mono',consolas,'Courier New',monospace\">Initialized MLflow to track repo <span style=\"color: #008000; text-decoration-color: #008000\">\"sahilbhardwaj23/Youtube-comment-Sentiment-Analysis\"</span>\n",
       "</pre>\n"
      ],
      "text/plain": [
       "Initialized MLflow to track repo \u001b[32m\"sahilbhardwaj23/Youtube-comment-Sentiment-Analysis\"\u001b[0m\n"
      ]
     },
     "metadata": {},
     "output_type": "display_data"
    },
    {
     "data": {
      "text/html": [
       "<pre style=\"white-space:pre;overflow-x:auto;line-height:normal;font-family:Menlo,'DejaVu Sans Mono',consolas,'Courier New',monospace\">Repository sahilbhardwaj23/Youtube-comment-Sentiment-Analysis initialized!\n",
       "</pre>\n"
      ],
      "text/plain": [
       "Repository sahilbhardwaj23/Youtube-comment-Sentiment-Analysis initialized!\n"
      ]
     },
     "metadata": {},
     "output_type": "display_data"
    }
   ],
   "source": [
    "import dagshub\n",
    "dagshub.init(repo_owner='sahilbhardwaj23', repo_name='Youtube-comment-Sentiment-Analysis', mlflow=True)"
   ]
  },
  {
   "cell_type": "code",
   "execution_count": 2,
   "metadata": {
    "id": "r-7ysUuxyuVs"
   },
   "outputs": [],
   "source": [
    "import mlflow\n",
    "# Step 2: Set up the MLflow tracking server\n",
    "mlflow.set_tracking_uri(\"https://dagshub.com/sahilbhardwaj23/Youtube-comment-Sentiment-Analysis.mlflow\")"
   ]
  },
  {
   "cell_type": "code",
   "execution_count": 3,
   "metadata": {},
   "outputs": [],
   "source": [
    "from mlflow.tracking import MlflowClient\n",
    "import mlflow"
   ]
  },
  {
   "cell_type": "code",
   "execution_count": 4,
   "metadata": {},
   "outputs": [],
   "source": [
    "def set_or_create_experiment(experiment_name):\n",
    "    client = MlflowClient()\n",
    "    experiment = client.get_experiment_by_name(experiment_name)\n",
    "\n",
    "    # Check if the experiment exists and is active\n",
    "    if experiment:\n",
    "        if experiment.lifecycle_stage == \"active\":\n",
    "            print(f\"Using existing experiment '{experiment_name}' (ID: {experiment.experiment_id})\")\n",
    "            mlflow.set_experiment(experiment_name)\n",
    "        else:\n",
    "            # Restore if it's deleted\n",
    "            print(f\"Restoring deleted experiment '{experiment_name}' (ID: {experiment.experiment_id})\")\n",
    "            client.restore_experiment(experiment.experiment_id)\n",
    "            mlflow.set_experiment(experiment_name)\n",
    "    else:\n",
    "        # Create a new experiment if it doesn't exist\n",
    "        print(f\"Creating new experiment '{experiment_name}'\")\n",
    "        mlflow.set_experiment(experiment_name)\n",
    "\n"
   ]
  },
  {
   "cell_type": "code",
   "execution_count": 5,
   "metadata": {
    "colab": {
     "base_uri": "https://localhost:8080/"
    },
    "id": "PKDf830by4j8",
    "outputId": "882d3a38-037e-442a-e9d4-24ff5bd736c7"
   },
   "outputs": [
    {
     "name": "stdout",
     "output_type": "stream",
     "text": [
      "Using existing experiment 'ML Algos with HP Tuning' (ID: 7)\n"
     ]
    }
   ],
   "source": [
    "# Set or create an experiment\n",
    "set_or_create_experiment(\"ML Algos with HP Tuning\")"
   ]
  },
  {
   "cell_type": "code",
   "execution_count": 6,
   "metadata": {
    "id": "5zTFu8-py63X"
   },
   "outputs": [
    {
     "name": "stderr",
     "output_type": "stream",
     "text": [
      "e:\\Projects\\Youtube Comment Analysis\\Youtube commnent Plugin\\myenv\\Lib\\site-packages\\tqdm\\auto.py:21: TqdmWarning: IProgress not found. Please update jupyter and ipywidgets. See https://ipywidgets.readthedocs.io/en/stable/user_install.html\n",
      "  from .autonotebook import tqdm as notebook_tqdm\n"
     ]
    }
   ],
   "source": [
    "import pandas as pd\n",
    "from sklearn.feature_extraction.text import TfidfVectorizer\n",
    "from sklearn.model_selection import train_test_split\n",
    "from sklearn.linear_model import LogisticRegression\n",
    "from sklearn.metrics import accuracy_score, classification_report\n",
    "from imblearn.over_sampling import SMOTE\n",
    "import mlflow\n",
    "import mlflow.sklearn\n",
    "import optuna\n"
   ]
  },
  {
   "cell_type": "code",
   "execution_count": 7,
   "metadata": {
    "colab": {
     "base_uri": "https://localhost:8080/"
    },
    "id": "ApulXm9Yy-m7",
    "outputId": "ea6ec006-f4d6-4aad-9687-f9edef00a686"
   },
   "outputs": [
    {
     "data": {
      "text/plain": [
       "(36662, 2)"
      ]
     },
     "execution_count": 7,
     "metadata": {},
     "output_type": "execute_result"
    }
   ],
   "source": [
    "df = pd.read_csv('reddit_preprocessing.csv').dropna()\n",
    "df.shape"
   ]
  },
  {
   "cell_type": "code",
   "execution_count": 8,
   "metadata": {
    "colab": {
     "base_uri": "https://localhost:8080/"
    },
    "id": "frq0yf4CzXXv",
    "outputId": "faa54a1b-733a-4d6d-b3bd-ef35cdd6ad61"
   },
   "outputs": [
    {
     "name": "stderr",
     "output_type": "stream",
     "text": [
      "[I 2024-11-03 10:32:13,254] A new study created in memory with name: no-name-02ba4eca-e4dd-4017-a912-c34b4a45e909\n",
      "[I 2024-11-03 10:32:13,536] Trial 0 finished with value: 0.3333333333333333 and parameters: {'C': 0.0004449409887974894, 'penalty': 'l1'}. Best is trial 0 with value: 0.3333333333333333.\n",
      "[I 2024-11-03 10:32:14,663] Trial 1 finished with value: 0.7687592475163814 and parameters: {'C': 2.3033269806396994, 'penalty': 'l2'}. Best is trial 1 with value: 0.7687592475163814.\n",
      "[I 2024-11-03 10:32:14,779] Trial 2 finished with value: 0.3333333333333333 and parameters: {'C': 0.00018213932551308868, 'penalty': 'l1'}. Best is trial 1 with value: 0.7687592475163814.\n",
      "[I 2024-11-03 10:32:15,272] Trial 3 finished with value: 0.779433523567956 and parameters: {'C': 1.8674199396221651, 'penalty': 'l1'}. Best is trial 3 with value: 0.779433523567956.\n",
      "[I 2024-11-03 10:32:15,838] Trial 4 finished with value: 0.7810188120904671 and parameters: {'C': 6.053843606969535, 'penalty': 'l1'}. Best is trial 4 with value: 0.7810188120904671.\n",
      "[I 2024-11-03 10:32:16,062] Trial 5 finished with value: 0.6193193827943352 and parameters: {'C': 0.00010897029486867762, 'penalty': 'l2'}. Best is trial 4 with value: 0.7810188120904671.\n",
      "[I 2024-11-03 10:32:16,410] Trial 6 finished with value: 0.7720355104629042 and parameters: {'C': 0.28673504559007507, 'penalty': 'l1'}. Best is trial 4 with value: 0.7810188120904671.\n",
      "[I 2024-11-03 10:32:16,633] Trial 7 finished with value: 0.626717395899387 and parameters: {'C': 0.00014089450405140405, 'penalty': 'l2'}. Best is trial 4 with value: 0.7810188120904671.\n",
      "[I 2024-11-03 10:32:16,975] Trial 8 finished with value: 0.6619108010991334 and parameters: {'C': 0.0059738445256011675, 'penalty': 'l2'}. Best is trial 4 with value: 0.7810188120904671.\n",
      "[I 2024-11-03 10:32:17,513] Trial 9 finished with value: 0.7790107799619531 and parameters: {'C': 3.7127692802708774, 'penalty': 'l1'}. Best is trial 4 with value: 0.7810188120904671.\n",
      "[I 2024-11-03 10:32:17,825] Trial 10 finished with value: 0.7030226167829211 and parameters: {'C': 0.056826681642903755, 'penalty': 'l1'}. Best is trial 4 with value: 0.7810188120904671.\n",
      "[I 2024-11-03 10:32:18,474] Trial 11 finished with value: 0.7805960684844642 and parameters: {'C': 9.76665215541318, 'penalty': 'l1'}. Best is trial 4 with value: 0.7810188120904671.\n",
      "[I 2024-11-03 10:32:18,911] Trial 12 finished with value: 0.7755231452124287 and parameters: {'C': 0.36349991361497663, 'penalty': 'l1'}. Best is trial 4 with value: 0.7810188120904671.\n",
      "[I 2024-11-03 10:32:19,610] Trial 13 finished with value: 0.7809131261889664 and parameters: {'C': 8.80670087963812, 'penalty': 'l1'}. Best is trial 4 with value: 0.7810188120904671.\n",
      "[I 2024-11-03 10:32:20,026] Trial 14 finished with value: 0.7771084337349398 and parameters: {'C': 0.4056388537983249, 'penalty': 'l1'}. Best is trial 4 with value: 0.7810188120904671.\n",
      "[I 2024-11-03 10:32:20,220] Trial 15 finished with value: 0.5435425914183047 and parameters: {'C': 0.012288526013511096, 'penalty': 'l1'}. Best is trial 4 with value: 0.7810188120904671.\n",
      "[I 2024-11-03 10:32:20,872] Trial 16 finished with value: 0.7808074402874656 and parameters: {'C': 8.867828772880056, 'penalty': 'l1'}. Best is trial 4 with value: 0.7810188120904671.\n",
      "[I 2024-11-03 10:32:21,145] Trial 17 finished with value: 0.7173958993870218 and parameters: {'C': 0.06756804887057692, 'penalty': 'l1'}. Best is trial 4 with value: 0.7810188120904671.\n",
      "[I 2024-11-03 10:32:22,176] Trial 18 finished with value: 0.766856901289368 and parameters: {'C': 1.009624582932818, 'penalty': 'l2'}. Best is trial 4 with value: 0.7810188120904671.\n",
      "[I 2024-11-03 10:32:22,303] Trial 19 finished with value: 0.3333333333333333 and parameters: {'C': 0.0017191256856613477, 'penalty': 'l1'}. Best is trial 4 with value: 0.7810188120904671.\n",
      "[I 2024-11-03 10:32:22,605] Trial 20 finished with value: 0.7395899387021772 and parameters: {'C': 0.10103048100504582, 'penalty': 'l1'}. Best is trial 4 with value: 0.7810188120904671.\n",
      "[I 2024-11-03 10:32:23,136] Trial 21 finished with value: 0.780279010779962 and parameters: {'C': 5.1835365711594505, 'penalty': 'l1'}. Best is trial 4 with value: 0.7810188120904671.\n",
      "[I 2024-11-03 10:32:23,597] Trial 22 finished with value: 0.7789050940604524 and parameters: {'C': 0.9858695888580301, 'penalty': 'l1'}. Best is trial 4 with value: 0.7810188120904671.\n",
      "[I 2024-11-03 10:32:24,151] Trial 23 finished with value: 0.7805960684844642 and parameters: {'C': 7.421612718541831, 'penalty': 'l1'}. Best is trial 4 with value: 0.7810188120904671.\n",
      "[I 2024-11-03 10:32:24,626] Trial 24 finished with value: 0.7783766645529486 and parameters: {'C': 1.2560851571805087, 'penalty': 'l1'}. Best is trial 4 with value: 0.7810188120904671.\n",
      "[I 2024-11-03 10:32:25,154] Trial 25 finished with value: 0.7808074402874656 and parameters: {'C': 8.546927269472878, 'penalty': 'l1'}. Best is trial 4 with value: 0.7810188120904671.\n",
      "[I 2024-11-03 10:32:26,342] Trial 26 finished with value: 0.7702388501373917 and parameters: {'C': 3.145060286583907, 'penalty': 'l2'}. Best is trial 4 with value: 0.7810188120904671.\n",
      "[I 2024-11-03 10:32:26,724] Trial 27 finished with value: 0.7799619530754597 and parameters: {'C': 0.5323546917247143, 'penalty': 'l1'}. Best is trial 4 with value: 0.7810188120904671.\n",
      "[I 2024-11-03 10:32:27,021] Trial 28 finished with value: 0.7627351511308391 and parameters: {'C': 0.19033180650112932, 'penalty': 'l1'}. Best is trial 4 with value: 0.7810188120904671.\n",
      "[I 2024-11-03 10:32:27,147] Trial 29 finished with value: 0.3333333333333333 and parameters: {'C': 0.0010875302017303286, 'penalty': 'l1'}. Best is trial 4 with value: 0.7810188120904671.\n",
      "2024/11/03 10:32:49 WARNING mlflow.models.model: Model logged without a signature and input example. Please set `input_example` parameter when logging the model to auto infer the model signature.\n",
      "2024/11/03 10:32:55 INFO mlflow.tracking._tracking_service.client: 🏃 View run LogisticRegression_SMOTE_TFIDF_Trigrams at: https://dagshub.com/sahilbhardwaj23/Youtube-comment-Sentiment-Analysis.mlflow/#/experiments/7/runs/5305fa5400d2436fa2bca9aaf3f9d551.\n",
      "2024/11/03 10:32:55 INFO mlflow.tracking._tracking_service.client: 🧪 View experiment at: https://dagshub.com/sahilbhardwaj23/Youtube-comment-Sentiment-Analysis.mlflow/#/experiments/7.\n"
     ]
    }
   ],
   "source": [
    "# Step 1: (Optional) Remapping - skipped since not strictly needed for Logistic Regression\n",
    "\n",
    "# Step 2: Remove rows where the target labels (category) are NaN\n",
    "df = df.dropna(subset=['category'])\n",
    "\n",
    "# Step 3: TF-IDF vectorizer setup\n",
    "ngram_range = (1, 3)  # Trigram\n",
    "max_features = 1000  # Set max_features to 1000\n",
    "vectorizer = TfidfVectorizer(ngram_range=ngram_range, max_features=max_features)\n",
    "X = vectorizer.fit_transform(df['clean_comment'])\n",
    "y = df['category']\n",
    "\n",
    "# Step 4: Apply SMOTE to handle class imbalance\n",
    "smote = SMOTE(random_state=42)\n",
    "X_resampled, y_resampled = smote.fit_resample(X, y)\n",
    "\n",
    "# Step 5: Train-test split\n",
    "X_train, X_test, y_train, y_test = train_test_split(X_resampled, y_resampled, test_size=0.2, random_state=42, stratify=y_resampled)\n",
    "\n",
    "# Function to log results in MLflow\n",
    "def log_mlflow(model_name, model, X_train, X_test, y_train, y_test):\n",
    "    with mlflow.start_run():\n",
    "        # Log model type\n",
    "        mlflow.set_tag(\"mlflow.runName\", f\"{model_name}_SMOTE_TFIDF_Trigrams\")\n",
    "        mlflow.set_tag(\"experiment_type\", \"algorithm_comparison\")\n",
    "\n",
    "        # Log algorithm name as a parameter\n",
    "        mlflow.log_param(\"algo_name\", model_name)\n",
    "\n",
    "        # Train model\n",
    "        model.fit(X_train, y_train)\n",
    "        y_pred = model.predict(X_test)\n",
    "\n",
    "        # Log accuracy\n",
    "        accuracy = accuracy_score(y_test, y_pred)\n",
    "        mlflow.log_metric(\"accuracy\", accuracy)\n",
    "\n",
    "        # Log classification report\n",
    "        classification_rep = classification_report(y_test, y_pred, output_dict=True)\n",
    "        for label, metrics in classification_rep.items():\n",
    "            if isinstance(metrics, dict):\n",
    "                for metric, value in metrics.items():\n",
    "                    mlflow.log_metric(f\"{label}_{metric}\", value)\n",
    "\n",
    "        # Log the model\n",
    "        mlflow.sklearn.log_model(model, f\"{model_name}_model\")\n",
    "\n",
    "\n",
    "# Step 6: Optuna objective function for Logistic Regression\n",
    "def objective_logreg(trial):\n",
    "    C = trial.suggest_float('C', 1e-4, 10.0, log=True)\n",
    "    penalty = trial.suggest_categorical('penalty', ['l1', 'l2'])\n",
    "\n",
    "    # LogisticRegression model setup with balanced class weight\n",
    "    model = LogisticRegression(C=C, penalty=penalty, solver='liblinear', random_state=42)\n",
    "    return accuracy_score(y_test, model.fit(X_train, y_train).predict(X_test))\n",
    "\n",
    "\n",
    "# Step 7: Run Optuna for Logistic Regression, log the best model only\n",
    "def run_optuna_experiment():\n",
    "    study = optuna.create_study(direction=\"maximize\")\n",
    "    study.optimize(objective_logreg, n_trials=30)\n",
    "\n",
    "    # Get the best parameters and log only the best model\n",
    "    best_params = study.best_params\n",
    "    best_model = LogisticRegression(C=best_params['C'], penalty=best_params['penalty'], solver='liblinear', random_state=42)\n",
    "\n",
    "    # Log the best model with MLflow, passing the algo_name as \"LogisticRegression\"\n",
    "    log_mlflow(\"LogisticRegression\", best_model, X_train, X_test, y_train, y_test)\n",
    "\n",
    "# Run the experiment for Logistic Regression\n",
    "run_optuna_experiment()\n"
   ]
  }
 ],
 "metadata": {
  "colab": {
   "provenance": []
  },
  "kernelspec": {
   "display_name": "myenv",
   "language": "python",
   "name": "python3"
  },
  "language_info": {
   "codemirror_mode": {
    "name": "ipython",
    "version": 3
   },
   "file_extension": ".py",
   "mimetype": "text/x-python",
   "name": "python",
   "nbconvert_exporter": "python",
   "pygments_lexer": "ipython3",
   "version": "3.11.4"
  }
 },
 "nbformat": 4,
 "nbformat_minor": 0
}
